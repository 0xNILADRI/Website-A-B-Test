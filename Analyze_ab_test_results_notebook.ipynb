{
 "cells": [
  {
   "cell_type": "markdown",
   "metadata": {},
   "source": [
    "## Analyze A/B Test Results\n",
    "\n",
    "\n",
    "## Table of Contents\n",
    "- Introduction\n",
    "- Part I - Probability\n",
    "- Part II - A/B Test\n",
    "- Part III - Regression\n",
    "\n",
    "\n",
    "\n",
    "### Introduction\n",
    "\n",
    "A/B tests are very commonly performed by data analysts and data scientists. Project is to perform an A/B test run by an e-commerce website. Scenario is a company has developed a new web page in order to try and increase the number of users.\n",
    "\n",
    "Goal is to find that the new website is performing well or not as compared to the old one. I performed different steps with the data set in order to acheive our aim. Steps involved were removing duplicate user ids , page assignment , hypothesis testing and standard statistical tests and multiple regression modelling.\n",
    "\n",
    "#### About Data set\n",
    "\n",
    "There are two data sets __ab_data.csv__ and __countries.csv__. \n",
    "\n",
    "Data set __ab_data.csv__ contains columns :\n",
    "\n",
    "        * user_id (unique id for website logins)\n",
    "        * timestamp\n",
    "        * landing_page (old page / new page)\n",
    "        * converted (0 - not converted / 1 - coverted)\n",
    "\n",
    "**294478 Data Points**\n",
    "\n",
    "Data set __countries.csv__ contains : \n",
    "\n",
    "        * columns user_id (unique id for website logins) \n",
    "        * country\n",
    "\n",
    "**290584 Data Points**\n",
    "\n",
    "\n",
    "\n",
    "\n",
    "\n",
    "#### Part I - Probability\n",
    "\n",
    "To get started, let's import our libraries."
   ]
  },
  {
   "cell_type": "code",
   "execution_count": 1,
   "metadata": {},
   "outputs": [],
   "source": [
    "import pandas as pd\n",
    "import numpy as np\n",
    "import random\n",
    "import matplotlib.pyplot as plt\n",
    "%matplotlib inline"
   ]
  },
  {
   "cell_type": "markdown",
   "metadata": {},
   "source": [
    "`1.` Read in the `ab_data.csv` data. Store it in `df`.  \n",
    "\n",
    "a. Read in the dataset and take a look at the top few rows here:"
   ]
  },
  {
   "cell_type": "code",
   "execution_count": 2,
   "metadata": {},
   "outputs": [
    {
     "output_type": "execute_result",
     "data": {
      "text/plain": [
       "   user_id                   timestamp      group landing_page  converted\n",
       "0   851104  2017-01-21 22:11:48.556739    control     old_page          0\n",
       "1   804228  2017-01-12 08:01:45.159739    control     old_page          0\n",
       "2   661590  2017-01-11 16:55:06.154213  treatment     new_page          0\n",
       "3   853541  2017-01-08 18:28:03.143765  treatment     new_page          0\n",
       "4   864975  2017-01-21 01:52:26.210827    control     old_page          1\n",
       "5   936923  2017-01-10 15:20:49.083499    control     old_page          0\n",
       "6   679687  2017-01-19 03:26:46.940749  treatment     new_page          1\n",
       "7   719014  2017-01-17 01:48:29.539573    control     old_page          0\n",
       "8   817355  2017-01-04 17:58:08.979471  treatment     new_page          1\n",
       "9   839785  2017-01-15 18:11:06.610965  treatment     new_page          1"
      ],
      "text/html": "<div>\n<style scoped>\n    .dataframe tbody tr th:only-of-type {\n        vertical-align: middle;\n    }\n\n    .dataframe tbody tr th {\n        vertical-align: top;\n    }\n\n    .dataframe thead th {\n        text-align: right;\n    }\n</style>\n<table border=\"1\" class=\"dataframe\">\n  <thead>\n    <tr style=\"text-align: right;\">\n      <th></th>\n      <th>user_id</th>\n      <th>timestamp</th>\n      <th>group</th>\n      <th>landing_page</th>\n      <th>converted</th>\n    </tr>\n  </thead>\n  <tbody>\n    <tr>\n      <th>0</th>\n      <td>851104</td>\n      <td>2017-01-21 22:11:48.556739</td>\n      <td>control</td>\n      <td>old_page</td>\n      <td>0</td>\n    </tr>\n    <tr>\n      <th>1</th>\n      <td>804228</td>\n      <td>2017-01-12 08:01:45.159739</td>\n      <td>control</td>\n      <td>old_page</td>\n      <td>0</td>\n    </tr>\n    <tr>\n      <th>2</th>\n      <td>661590</td>\n      <td>2017-01-11 16:55:06.154213</td>\n      <td>treatment</td>\n      <td>new_page</td>\n      <td>0</td>\n    </tr>\n    <tr>\n      <th>3</th>\n      <td>853541</td>\n      <td>2017-01-08 18:28:03.143765</td>\n      <td>treatment</td>\n      <td>new_page</td>\n      <td>0</td>\n    </tr>\n    <tr>\n      <th>4</th>\n      <td>864975</td>\n      <td>2017-01-21 01:52:26.210827</td>\n      <td>control</td>\n      <td>old_page</td>\n      <td>1</td>\n    </tr>\n    <tr>\n      <th>5</th>\n      <td>936923</td>\n      <td>2017-01-10 15:20:49.083499</td>\n      <td>control</td>\n      <td>old_page</td>\n      <td>0</td>\n    </tr>\n    <tr>\n      <th>6</th>\n      <td>679687</td>\n      <td>2017-01-19 03:26:46.940749</td>\n      <td>treatment</td>\n      <td>new_page</td>\n      <td>1</td>\n    </tr>\n    <tr>\n      <th>7</th>\n      <td>719014</td>\n      <td>2017-01-17 01:48:29.539573</td>\n      <td>control</td>\n      <td>old_page</td>\n      <td>0</td>\n    </tr>\n    <tr>\n      <th>8</th>\n      <td>817355</td>\n      <td>2017-01-04 17:58:08.979471</td>\n      <td>treatment</td>\n      <td>new_page</td>\n      <td>1</td>\n    </tr>\n    <tr>\n      <th>9</th>\n      <td>839785</td>\n      <td>2017-01-15 18:11:06.610965</td>\n      <td>treatment</td>\n      <td>new_page</td>\n      <td>1</td>\n    </tr>\n  </tbody>\n</table>\n</div>"
     },
     "metadata": {},
     "execution_count": 2
    }
   ],
   "source": [
    "df = pd.read_csv(\"ab_data.csv\")\n",
    "df.head(10)"
   ]
  },
  {
   "cell_type": "markdown",
   "metadata": {},
   "source": [
    "b. Cell below to find the number of rows in the dataset."
   ]
  },
  {
   "cell_type": "code",
   "execution_count": 3,
   "metadata": {},
   "outputs": [
    {
     "output_type": "execute_result",
     "data": {
      "text/plain": [
       "294478"
      ]
     },
     "metadata": {},
     "execution_count": 3
    }
   ],
   "source": [
    "#df.info()\n",
    "df.shape[0]"
   ]
  },
  {
   "cell_type": "markdown",
   "metadata": {},
   "source": [
    "c. The number of unique users in the dataset."
   ]
  },
  {
   "cell_type": "code",
   "execution_count": 4,
   "metadata": {},
   "outputs": [
    {
     "output_type": "execute_result",
     "data": {
      "text/plain": [
       "290584"
      ]
     },
     "metadata": {},
     "execution_count": 4
    }
   ],
   "source": [
    "len(df.user_id.unique().tolist())"
   ]
  },
  {
   "cell_type": "markdown",
   "metadata": {
    "collapsed": true
   },
   "source": [
    "d. The proportion of users converted."
   ]
  },
  {
   "cell_type": "code",
   "execution_count": 5,
   "metadata": {},
   "outputs": [
    {
     "output_type": "execute_result",
     "data": {
      "text/plain": [
       "0    88.034081\n",
       "1    11.965919\n",
       "Name: converted, dtype: float64"
      ]
     },
     "metadata": {},
     "execution_count": 5
    }
   ],
   "source": [
    "(df['converted'].value_counts()/df['converted'].count())*100"
   ]
  },
  {
   "cell_type": "markdown",
   "metadata": {},
   "source": [
    "Converted users proportion is 11.6%"
   ]
  },
  {
   "cell_type": "markdown",
   "metadata": {
    "collapsed": true
   },
   "source": [
    "e. The number of times the `new_page` and `treatment` don't match."
   ]
  },
  {
   "cell_type": "code",
   "execution_count": 6,
   "metadata": {},
   "outputs": [
    {
     "output_type": "execute_result",
     "data": {
      "text/plain": [
       "3893"
      ]
     },
     "metadata": {},
     "execution_count": 6
    }
   ],
   "source": [
    "df.query('(group == \"treatment\" and landing_page != \"new_page\") or (group != \"treatment\" and landing_page == \"new_page\")')['user_id'].count()"
   ]
  },
  {
   "cell_type": "markdown",
   "metadata": {},
   "source": [
    "f. Do any of the rows have missing values?"
   ]
  },
  {
   "cell_type": "code",
   "execution_count": 7,
   "metadata": {},
   "outputs": [
    {
     "output_type": "execute_result",
     "data": {
      "text/plain": [
       "user_id         0\n",
       "timestamp       0\n",
       "group           0\n",
       "landing_page    0\n",
       "converted       0\n",
       "dtype: int64"
      ]
     },
     "metadata": {},
     "execution_count": 7
    }
   ],
   "source": [
    "df.isna().sum()"
   ]
  },
  {
   "cell_type": "markdown",
   "metadata": {},
   "source": [
    "From above we can see that there are 0 null values in the dataset."
   ]
  },
  {
   "cell_type": "markdown",
   "metadata": {},
   "source": [
    "`2.` For the rows where **treatment** does not match with **new_page** or **control** does not match with **old_page**, we cannot be sure if this row truly received the new or old page.   \n",
    "\n",
    "a. Store new dataframe in **df2**."
   ]
  },
  {
   "cell_type": "code",
   "execution_count": 8,
   "metadata": {},
   "outputs": [],
   "source": [
    "df2 = df.drop(df.query('(group == \"treatment\" and landing_page != \"new_page\") or (group != \"treatment\" and landing_page == \"new_page\") or (group == \"control\" and landing_page != \"old_page\") or (group != \"control\" and landing_page == \"old_page\")').index)"
   ]
  },
  {
   "cell_type": "code",
   "execution_count": 9,
   "metadata": {},
   "outputs": [
    {
     "output_type": "execute_result",
     "data": {
      "text/plain": [
       "0"
      ]
     },
     "metadata": {},
     "execution_count": 9
    }
   ],
   "source": [
    "# Double Check all of the correct rows were removed - this should be 0\n",
    "df2[((df2['group'] == 'treatment') == (df2['landing_page'] == 'new_page')) == False].shape[0]"
   ]
  },
  {
   "cell_type": "markdown",
   "metadata": {},
   "source": [
    "`3.` Using **df2** and the cells below to answer questions below."
   ]
  },
  {
   "cell_type": "markdown",
   "metadata": {},
   "source": [
    "a. How many unique **user_id**s are in **df2**?"
   ]
  },
  {
   "cell_type": "code",
   "execution_count": 10,
   "metadata": {},
   "outputs": [
    {
     "output_type": "execute_result",
     "data": {
      "text/plain": [
       "290584"
      ]
     },
     "metadata": {},
     "execution_count": 10
    }
   ],
   "source": [
    "df2['user_id'].nunique()"
   ]
  },
  {
   "cell_type": "markdown",
   "metadata": {
    "collapsed": true
   },
   "source": [
    "b. There is one **user_id** repeated in **df2**. "
   ]
  },
  {
   "cell_type": "code",
   "execution_count": 11,
   "metadata": {},
   "outputs": [
    {
     "output_type": "execute_result",
     "data": {
      "text/plain": [
       "1899    773192\n",
       "2893    773192\n",
       "Name: user_id, dtype: int64"
      ]
     },
     "metadata": {},
     "execution_count": 11
    }
   ],
   "source": [
    "df2[df2.duplicated(['user_id'], keep=False)]['user_id']"
   ]
  },
  {
   "cell_type": "markdown",
   "metadata": {},
   "source": [
    "c. What is the row information for the repeat **user_id**? "
   ]
  },
  {
   "cell_type": "code",
   "execution_count": 12,
   "metadata": {},
   "outputs": [
    {
     "output_type": "execute_result",
     "data": {
      "text/plain": [
       "      user_id                   timestamp      group landing_page  converted\n",
       "1899   773192  2017-01-09 05:37:58.781806  treatment     new_page          0\n",
       "2893   773192  2017-01-14 02:55:59.590927  treatment     new_page          0"
      ],
      "text/html": "<div>\n<style scoped>\n    .dataframe tbody tr th:only-of-type {\n        vertical-align: middle;\n    }\n\n    .dataframe tbody tr th {\n        vertical-align: top;\n    }\n\n    .dataframe thead th {\n        text-align: right;\n    }\n</style>\n<table border=\"1\" class=\"dataframe\">\n  <thead>\n    <tr style=\"text-align: right;\">\n      <th></th>\n      <th>user_id</th>\n      <th>timestamp</th>\n      <th>group</th>\n      <th>landing_page</th>\n      <th>converted</th>\n    </tr>\n  </thead>\n  <tbody>\n    <tr>\n      <th>1899</th>\n      <td>773192</td>\n      <td>2017-01-09 05:37:58.781806</td>\n      <td>treatment</td>\n      <td>new_page</td>\n      <td>0</td>\n    </tr>\n    <tr>\n      <th>2893</th>\n      <td>773192</td>\n      <td>2017-01-14 02:55:59.590927</td>\n      <td>treatment</td>\n      <td>new_page</td>\n      <td>0</td>\n    </tr>\n  </tbody>\n</table>\n</div>"
     },
     "metadata": {},
     "execution_count": 12
    }
   ],
   "source": [
    "df2[df2['user_id'] == 773192]"
   ]
  },
  {
   "cell_type": "markdown",
   "metadata": {},
   "source": [
    "d. Remove **one** of the rows with a duplicate **user_id**."
   ]
  },
  {
   "cell_type": "code",
   "execution_count": 13,
   "metadata": {},
   "outputs": [],
   "source": [
    "df2 = df2.drop_duplicates()"
   ]
  },
  {
   "cell_type": "markdown",
   "metadata": {},
   "source": [
    "`4.` Using **df2** in the cells below to answer the questions.\n",
    "\n",
    "a. What is the probability of an individual converting regardless of the page they receive?"
   ]
  },
  {
   "cell_type": "code",
   "execution_count": 14,
   "metadata": {},
   "outputs": [
    {
     "output_type": "stream",
     "name": "stdout",
     "text": [
      "The probability of an individual converting regardless of the page they receive is 11.96%\n"
     ]
    }
   ],
   "source": [
    "con_user = float(df2.query('converted == 1')['user_id'].nunique())\n",
    "prob_con = con_user/float(df2.shape[0])\n",
    "print(\"The probability of an individual converting regardless of the page they receive is {0:.2%}\".format(prob_con))"
   ]
  },
  {
   "cell_type": "markdown",
   "metadata": {},
   "source": [
    "b. Given that an individual was in the `control` group, what is the probability they converted?"
   ]
  },
  {
   "cell_type": "code",
   "execution_count": 15,
   "metadata": {},
   "outputs": [
    {
     "output_type": "stream",
     "name": "stdout",
     "text": [
      " Given that an individual was in the control group, the probability they converted is 12.04%\n"
     ]
    }
   ],
   "source": [
    "con_controluser = float(df2.query('converted == 1 and group == \"control\"')['user_id'].nunique())\n",
    "control_user =float(df2.query('group == \"control\"')['user_id'].nunique())\n",
    "control_prob_con = con_controluser /control_user\n",
    "print(\" Given that an individual was in the control group, the probability they converted is {0:.2%}\".format(control_prob_con))"
   ]
  },
  {
   "cell_type": "markdown",
   "metadata": {},
   "source": [
    "c. Given that an individual was in the `treatment` group, what is the probability they converted?"
   ]
  },
  {
   "cell_type": "code",
   "execution_count": 16,
   "metadata": {},
   "outputs": [
    {
     "output_type": "stream",
     "name": "stdout",
     "text": [
      " Given that an individual was in the treatment group, the probability they converted is 11.88%\n"
     ]
    }
   ],
   "source": [
    "con_treatmentuser = float(df2.query('converted == 1 and group == \"treatment\"')['user_id'].nunique())\n",
    "treatment_user =float(df2.query('group == \"treatment\"')['user_id'].nunique())\n",
    "treatment_prob_con = con_treatmentuser /treatment_user\n",
    "print(\" Given that an individual was in the treatment group, the probability they converted is {0:.2%}\".format(treatment_prob_con))"
   ]
  },
  {
   "cell_type": "markdown",
   "metadata": {},
   "source": [
    "d. What is the probability that an individual received the new page?"
   ]
  },
  {
   "cell_type": "code",
   "execution_count": 17,
   "metadata": {},
   "outputs": [
    {
     "output_type": "stream",
     "name": "stdout",
     "text": [
      "The probability that an individual received the new page is 50.01%\n"
     ]
    }
   ],
   "source": [
    "new_page_user = float(df2.query('landing_page == \"new_page\"')['user_id'].nunique())\n",
    "new_page_prob = new_page_user/float(df2.shape[0])\n",
    "print(\"The probability that an individual received the new page is {0:.2%}\".format(new_page_prob))"
   ]
  },
  {
   "cell_type": "markdown",
   "metadata": {},
   "source": [
    "``The probability of an individual converting regardless of the page they receive is 11.96%.``\n",
    "\n",
    "``If the individual was in the control group, the probability they converted is 12.04%.``\n",
    "\n",
    "``If the individual was in the treatment group, the probability they converted is 11.88%.``\n",
    "\n",
    "``By the result provided above, we can say thay both the pages have similar performance. So we cannot state that one page leads to more hits.``"
   ]
  },
  {
   "cell_type": "markdown",
   "metadata": {},
   "source": [
    "### Part II - A/B Test\n",
    "\n",
    "We notice that because of the time stamp associated with each event, we could technically run a hypothesis test continuously as each observation was observed.  \n",
    "\n",
    "However, then the hard question is do we stop as soon as one page is considered significantly better than another or does it need to happen consistently for a certain amount of time?  How long do we run to render a decision that neither page is better than another?  \n",
    "\n",
    "These questions are the difficult parts associated with A/B tests in general.  \n",
    "\n",
    "\n",
    "`1.` For now, we consider to make the decision just based on all the data provided.  If we want to assume that the old page is better unless the new page proves to be definitely better at a Type I error rate of 5%, what should the null and alternative hypotheses be?  We state the hypothesis in terms of words or in terms of **$p_{old}$** and **$p_{new}$**, which are the converted rates for the old and new pages."
   ]
  },
  {
   "cell_type": "markdown",
   "metadata": {},
   "source": [
    "**Null hypothese, H0** : p_new - p_old <= 0  \n",
    "**Alternative hypothese, H1** : p_new - p_old > 0"
   ]
  },
  {
   "cell_type": "markdown",
   "metadata": {},
   "source": [
    "`2.` Assume under the null hypothesis, $p_{new}$ and $p_{old}$ both have \"true\" success rates equal to the **converted** success rate regardless of page - that is $p_{new}$ and $p_{old}$ are equal. Furthermore, we assume they are equal to the **converted** rate in **ab_data.csv** regardless of the page. \n",
    "\n",
    "We use a sample size for each page equal to the ones in **ab_data.csv**. \n",
    "\n",
    "Perform the sampling distribution for the difference in **converted** between the two pages over 10,000 iterations of calculating an estimate from the null. \n"
   ]
  },
  {
   "cell_type": "markdown",
   "metadata": {},
   "source": [
    "a. What is the **conversion rate** for $p_{new}$ under the null? "
   ]
  },
  {
   "cell_type": "code",
   "execution_count": 18,
   "metadata": {},
   "outputs": [
    {
     "output_type": "execute_result",
     "data": {
      "text/plain": [
       "0.11959667567149027"
      ]
     },
     "metadata": {},
     "execution_count": 18
    }
   ],
   "source": [
    "p_new = df2['converted'].mean()\n",
    "p_new"
   ]
  },
  {
   "cell_type": "markdown",
   "metadata": {},
   "source": [
    "b. What is the **conversion rate** for $p_{old}$ under the null? <br><br>"
   ]
  },
  {
   "cell_type": "code",
   "execution_count": 19,
   "metadata": {},
   "outputs": [
    {
     "output_type": "execute_result",
     "data": {
      "text/plain": [
       "0.11959667567149027"
      ]
     },
     "metadata": {},
     "execution_count": 19
    }
   ],
   "source": [
    "p_old = df2['converted'].mean() # Same \n",
    "p_old"
   ]
  },
  {
   "cell_type": "markdown",
   "metadata": {},
   "source": [
    "c. What is $n_{new}$, the number of individuals in the treatment group?"
   ]
  },
  {
   "cell_type": "code",
   "execution_count": 20,
   "metadata": {},
   "outputs": [
    {
     "output_type": "execute_result",
     "data": {
      "text/plain": [
       "145310"
      ]
     },
     "metadata": {},
     "execution_count": 20
    }
   ],
   "source": [
    "n_new = df2.query('group == \"treatment\"')['user_id'].nunique()\n",
    "n_new"
   ]
  },
  {
   "cell_type": "markdown",
   "metadata": {},
   "source": [
    "d. What is $n_{old}$, the number of individuals in the control group?"
   ]
  },
  {
   "cell_type": "code",
   "execution_count": 21,
   "metadata": {},
   "outputs": [
    {
     "output_type": "execute_result",
     "data": {
      "text/plain": [
       "145274"
      ]
     },
     "metadata": {},
     "execution_count": 21
    }
   ],
   "source": [
    "n_old = df2.query('group == \"control\"')['user_id'].nunique()\n",
    "n_old"
   ]
  },
  {
   "cell_type": "markdown",
   "metadata": {},
   "source": [
    "e. Simulate $n_{new}$ transactions with a conversion rate of $p_{new}$ under the null.  Store these $n_{new}$ 1's and 0's in **new_page_converted**."
   ]
  },
  {
   "cell_type": "code",
   "execution_count": 22,
   "metadata": {},
   "outputs": [
    {
     "output_type": "execute_result",
     "data": {
      "text/plain": [
       "0.11960635881907646"
      ]
     },
     "metadata": {},
     "execution_count": 22
    }
   ],
   "source": [
    "new_page_converted = np.random.binomial(1, p_new, n_new)\n",
    "new_page_converted.mean() "
   ]
  },
  {
   "cell_type": "markdown",
   "metadata": {},
   "source": [
    "f. Simulate $n_{old}$ transactions with a conversion rate of $p_{old}$ under the null.  Store these $n_{old}$ 1's and 0's in **old_page_converted**."
   ]
  },
  {
   "cell_type": "code",
   "execution_count": 23,
   "metadata": {},
   "outputs": [
    {
     "output_type": "execute_result",
     "data": {
      "text/plain": [
       "0.12048955766344975"
      ]
     },
     "metadata": {},
     "execution_count": 23
    }
   ],
   "source": [
    "old_page_converted = np.random.binomial(1, p_old, n_old)\n",
    "old_page_converted.mean()"
   ]
  },
  {
   "cell_type": "markdown",
   "metadata": {},
   "source": [
    "g. Find $p_{new}$ - $p_{old}$ for your simulated values from part (e) and (f)."
   ]
  },
  {
   "cell_type": "code",
   "execution_count": 24,
   "metadata": {},
   "outputs": [
    {
     "output_type": "execute_result",
     "data": {
      "text/plain": [
       "-0.0008831988443732952"
      ]
     },
     "metadata": {},
     "execution_count": 24
    }
   ],
   "source": [
    "sim_value = new_page_converted.mean() - old_page_converted.mean()\n",
    "sim_value"
   ]
  },
  {
   "cell_type": "markdown",
   "metadata": {},
   "source": [
    "h. Create 10,000 $p_{new}$ - $p_{old}$ values using the same simulation process you used in parts (a) through (g) above. Store all 10,000 values in a NumPy array called **p_diffs**."
   ]
  },
  {
   "cell_type": "code",
   "execution_count": 25,
   "metadata": {},
   "outputs": [],
   "source": [
    "p_diffs = []\n",
    "for _ in range(10000):\n",
    "    new_page_converted = np.random.binomial(1, p_new, n_new)\n",
    "    npc_mean = new_page_converted.mean()\n",
    "    old_page_converted = np.random.binomial(1, p_old, n_old)\n",
    "    opc_mean = old_page_converted.mean()\n",
    "    p_diffs.append(npc_mean - opc_mean)"
   ]
  },
  {
   "cell_type": "code",
   "execution_count": 26,
   "metadata": {},
   "outputs": [
    {
     "output_type": "execute_result",
     "data": {
      "text/plain": [
       "2.441932631013e-05"
      ]
     },
     "metadata": {},
     "execution_count": 26
    }
   ],
   "source": [
    "p_diffs = np.array(p_diffs)\n",
    "pd_mean = p_diffs.mean()\n",
    "pd_mean"
   ]
  },
  {
   "cell_type": "code",
   "execution_count": 27,
   "metadata": {},
   "outputs": [
    {
     "output_type": "execute_result",
     "data": {
      "text/plain": [
       "0.0011998211177042693"
      ]
     },
     "metadata": {},
     "execution_count": 27
    }
   ],
   "source": [
    "p_diffs.std()"
   ]
  },
  {
   "cell_type": "markdown",
   "metadata": {},
   "source": [
    "i. Plot a histogram of the **p_diffs**."
   ]
  },
  {
   "cell_type": "code",
   "execution_count": 28,
   "metadata": {},
   "outputs": [
    {
     "output_type": "display_data",
     "data": {
      "text/plain": "<Figure size 432x288 with 1 Axes>",
      "image/svg+xml": "<?xml version=\"1.0\" encoding=\"utf-8\" standalone=\"no\"?>\n<!DOCTYPE svg PUBLIC \"-//W3C//DTD SVG 1.1//EN\"\n  \"http://www.w3.org/Graphics/SVG/1.1/DTD/svg11.dtd\">\n<!-- Created with matplotlib (https://matplotlib.org/) -->\n<svg height=\"251.418697pt\" version=\"1.1\" viewBox=\"0 0 381.65 251.418697\" width=\"381.65pt\" xmlns=\"http://www.w3.org/2000/svg\" xmlns:xlink=\"http://www.w3.org/1999/xlink\">\n <defs>\n  <style type=\"text/css\">\n*{stroke-linecap:butt;stroke-linejoin:round;}\n  </style>\n </defs>\n <g id=\"figure_1\">\n  <g id=\"patch_1\">\n   <path d=\"M -0 251.418697 \nL 381.65 251.418697 \nL 381.65 0 \nL -0 0 \nz\n\" style=\"fill:none;\"/>\n  </g>\n  <g id=\"axes_1\">\n   <g id=\"patch_2\">\n    <path d=\"M 39.65 227.540572 \nL 374.45 227.540572 \nL 374.45 10.100572 \nL 39.65 10.100572 \nz\n\" style=\"fill:#ffffff;\"/>\n   </g>\n   <g id=\"patch_3\">\n    <path clip-path=\"url(#p5e941b24be)\" d=\"M 54.868182 227.540572 \nL 85.304545 227.540572 \nL 85.304545 225.66388 \nL 54.868182 225.66388 \nz\n\" style=\"fill:#1f77b4;\"/>\n   </g>\n   <g id=\"patch_4\">\n    <path clip-path=\"url(#p5e941b24be)\" d=\"M 85.304545 227.540572 \nL 115.740909 227.540572 \nL 115.740909 214.47591 \nL 85.304545 214.47591 \nz\n\" style=\"fill:#1f77b4;\"/>\n   </g>\n   <g id=\"patch_5\">\n    <path clip-path=\"url(#p5e941b24be)\" d=\"M 115.740909 227.540572 \nL 146.177273 227.540572 \nL 146.177273 177.086437 \nL 115.740909 177.086437 \nz\n\" style=\"fill:#1f77b4;\"/>\n   </g>\n   <g id=\"patch_6\">\n    <path clip-path=\"url(#p5e941b24be)\" d=\"M 146.177273 227.540572 \nL 176.613636 227.540572 \nL 176.613636 89.387189 \nL 146.177273 89.387189 \nz\n\" style=\"fill:#1f77b4;\"/>\n   </g>\n   <g id=\"patch_7\">\n    <path clip-path=\"url(#p5e941b24be)\" d=\"M 176.613636 227.540572 \nL 207.05 227.540572 \nL 207.05 20.454858 \nL 176.613636 20.454858 \nz\n\" style=\"fill:#1f77b4;\"/>\n   </g>\n   <g id=\"patch_8\">\n    <path clip-path=\"url(#p5e941b24be)\" d=\"M 207.05 227.540572 \nL 237.486364 227.540572 \nL 237.486364 42.830798 \nL 207.05 42.830798 \nz\n\" style=\"fill:#1f77b4;\"/>\n   </g>\n   <g id=\"patch_9\">\n    <path clip-path=\"url(#p5e941b24be)\" d=\"M 237.486364 227.540572 \nL 267.922727 227.540572 \nL 267.922727 135.221775 \nL 237.486364 135.221775 \nz\n\" style=\"fill:#1f77b4;\"/>\n   </g>\n   <g id=\"patch_10\">\n    <path clip-path=\"url(#p5e941b24be)\" d=\"M 267.922727 227.540572 \nL 298.359091 227.540572 \nL 298.359091 198.524031 \nL 267.922727 198.524031 \nz\n\" style=\"fill:#1f77b4;\"/>\n   </g>\n   <g id=\"patch_11\">\n    <path clip-path=\"url(#p5e941b24be)\" d=\"M 298.359091 227.540572 \nL 328.795455 227.540572 \nL 328.795455 223.137565 \nL 298.359091 223.137565 \nz\n\" style=\"fill:#1f77b4;\"/>\n   </g>\n   <g id=\"patch_12\">\n    <path clip-path=\"url(#p5e941b24be)\" d=\"M 328.795455 227.540572 \nL 359.231818 227.540572 \nL 359.231818 226.818768 \nL 328.795455 226.818768 \nz\n\" style=\"fill:#1f77b4;\"/>\n   </g>\n   <g id=\"matplotlib.axis_1\">\n    <g id=\"xtick_1\">\n     <g id=\"line2d_1\">\n      <defs>\n       <path d=\"M 0 0 \nL 0 3.5 \n\" id=\"mfec273e679\" style=\"stroke:#000000;stroke-width:0.8;\"/>\n      </defs>\n      <g>\n       <use style=\"stroke:#000000;stroke-width:0.8;\" x=\"63.969262\" xlink:href=\"#mfec273e679\" y=\"227.540572\"/>\n      </g>\n     </g>\n     <g id=\"text_1\">\n      <!-- −0.004 -->\n      <defs>\n       <path d=\"M 10.59375 35.5 \nL 73.1875 35.5 \nL 73.1875 27.203125 \nL 10.59375 27.203125 \nz\n\" id=\"DejaVuSans-8722\"/>\n       <path d=\"M 31.78125 66.40625 \nQ 24.171875 66.40625 20.328125 58.90625 \nQ 16.5 51.421875 16.5 36.375 \nQ 16.5 21.390625 20.328125 13.890625 \nQ 24.171875 6.390625 31.78125 6.390625 \nQ 39.453125 6.390625 43.28125 13.890625 \nQ 47.125 21.390625 47.125 36.375 \nQ 47.125 51.421875 43.28125 58.90625 \nQ 39.453125 66.40625 31.78125 66.40625 \nz\nM 31.78125 74.21875 \nQ 44.046875 74.21875 50.515625 64.515625 \nQ 56.984375 54.828125 56.984375 36.375 \nQ 56.984375 17.96875 50.515625 8.265625 \nQ 44.046875 -1.421875 31.78125 -1.421875 \nQ 19.53125 -1.421875 13.0625 8.265625 \nQ 6.59375 17.96875 6.59375 36.375 \nQ 6.59375 54.828125 13.0625 64.515625 \nQ 19.53125 74.21875 31.78125 74.21875 \nz\n\" id=\"DejaVuSans-48\"/>\n       <path d=\"M 10.6875 12.40625 \nL 21 12.40625 \nL 21 0 \nL 10.6875 0 \nz\n\" id=\"DejaVuSans-46\"/>\n       <path d=\"M 37.796875 64.3125 \nL 12.890625 25.390625 \nL 37.796875 25.390625 \nz\nM 35.203125 72.90625 \nL 47.609375 72.90625 \nL 47.609375 25.390625 \nL 58.015625 25.390625 \nL 58.015625 17.1875 \nL 47.609375 17.1875 \nL 47.609375 0 \nL 37.796875 0 \nL 37.796875 17.1875 \nL 4.890625 17.1875 \nL 4.890625 26.703125 \nz\n\" id=\"DejaVuSans-52\"/>\n      </defs>\n      <g transform=\"translate(45.465355 242.13901)scale(0.1 -0.1)\">\n       <use xlink:href=\"#DejaVuSans-8722\"/>\n       <use x=\"83.789062\" xlink:href=\"#DejaVuSans-48\"/>\n       <use x=\"147.412109\" xlink:href=\"#DejaVuSans-46\"/>\n       <use x=\"179.199219\" xlink:href=\"#DejaVuSans-48\"/>\n       <use x=\"242.822266\" xlink:href=\"#DejaVuSans-48\"/>\n       <use x=\"306.445312\" xlink:href=\"#DejaVuSans-52\"/>\n      </g>\n     </g>\n    </g>\n    <g id=\"xtick_2\">\n     <g id=\"line2d_2\">\n      <g>\n       <use style=\"stroke:#000000;stroke-width:0.8;\" x=\"131.535366\" xlink:href=\"#mfec273e679\" y=\"227.540572\"/>\n      </g>\n     </g>\n     <g id=\"text_2\">\n      <!-- −0.002 -->\n      <defs>\n       <path d=\"M 19.1875 8.296875 \nL 53.609375 8.296875 \nL 53.609375 0 \nL 7.328125 0 \nL 7.328125 8.296875 \nQ 12.9375 14.109375 22.625 23.890625 \nQ 32.328125 33.6875 34.8125 36.53125 \nQ 39.546875 41.84375 41.421875 45.53125 \nQ 43.3125 49.21875 43.3125 52.78125 \nQ 43.3125 58.59375 39.234375 62.25 \nQ 35.15625 65.921875 28.609375 65.921875 \nQ 23.96875 65.921875 18.8125 64.3125 \nQ 13.671875 62.703125 7.8125 59.421875 \nL 7.8125 69.390625 \nQ 13.765625 71.78125 18.9375 73 \nQ 24.125 74.21875 28.421875 74.21875 \nQ 39.75 74.21875 46.484375 68.546875 \nQ 53.21875 62.890625 53.21875 53.421875 \nQ 53.21875 48.921875 51.53125 44.890625 \nQ 49.859375 40.875 45.40625 35.40625 \nQ 44.1875 33.984375 37.640625 27.21875 \nQ 31.109375 20.453125 19.1875 8.296875 \nz\n\" id=\"DejaVuSans-50\"/>\n      </defs>\n      <g transform=\"translate(113.03146 242.13901)scale(0.1 -0.1)\">\n       <use xlink:href=\"#DejaVuSans-8722\"/>\n       <use x=\"83.789062\" xlink:href=\"#DejaVuSans-48\"/>\n       <use x=\"147.412109\" xlink:href=\"#DejaVuSans-46\"/>\n       <use x=\"179.199219\" xlink:href=\"#DejaVuSans-48\"/>\n       <use x=\"242.822266\" xlink:href=\"#DejaVuSans-48\"/>\n       <use x=\"306.445312\" xlink:href=\"#DejaVuSans-50\"/>\n      </g>\n     </g>\n    </g>\n    <g id=\"xtick_3\">\n     <g id=\"line2d_3\">\n      <g>\n       <use style=\"stroke:#000000;stroke-width:0.8;\" x=\"199.10147\" xlink:href=\"#mfec273e679\" y=\"227.540572\"/>\n      </g>\n     </g>\n     <g id=\"text_3\">\n      <!-- 0.000 -->\n      <g transform=\"translate(184.787407 242.13901)scale(0.1 -0.1)\">\n       <use xlink:href=\"#DejaVuSans-48\"/>\n       <use x=\"63.623047\" xlink:href=\"#DejaVuSans-46\"/>\n       <use x=\"95.410156\" xlink:href=\"#DejaVuSans-48\"/>\n       <use x=\"159.033203\" xlink:href=\"#DejaVuSans-48\"/>\n       <use x=\"222.65625\" xlink:href=\"#DejaVuSans-48\"/>\n      </g>\n     </g>\n    </g>\n    <g id=\"xtick_4\">\n     <g id=\"line2d_4\">\n      <g>\n       <use style=\"stroke:#000000;stroke-width:0.8;\" x=\"266.667574\" xlink:href=\"#mfec273e679\" y=\"227.540572\"/>\n      </g>\n     </g>\n     <g id=\"text_4\">\n      <!-- 0.002 -->\n      <g transform=\"translate(252.353511 242.13901)scale(0.1 -0.1)\">\n       <use xlink:href=\"#DejaVuSans-48\"/>\n       <use x=\"63.623047\" xlink:href=\"#DejaVuSans-46\"/>\n       <use x=\"95.410156\" xlink:href=\"#DejaVuSans-48\"/>\n       <use x=\"159.033203\" xlink:href=\"#DejaVuSans-48\"/>\n       <use x=\"222.65625\" xlink:href=\"#DejaVuSans-50\"/>\n      </g>\n     </g>\n    </g>\n    <g id=\"xtick_5\">\n     <g id=\"line2d_5\">\n      <g>\n       <use style=\"stroke:#000000;stroke-width:0.8;\" x=\"334.233678\" xlink:href=\"#mfec273e679\" y=\"227.540572\"/>\n      </g>\n     </g>\n     <g id=\"text_5\">\n      <!-- 0.004 -->\n      <g transform=\"translate(319.919616 242.13901)scale(0.1 -0.1)\">\n       <use xlink:href=\"#DejaVuSans-48\"/>\n       <use x=\"63.623047\" xlink:href=\"#DejaVuSans-46\"/>\n       <use x=\"95.410156\" xlink:href=\"#DejaVuSans-48\"/>\n       <use x=\"159.033203\" xlink:href=\"#DejaVuSans-48\"/>\n       <use x=\"222.65625\" xlink:href=\"#DejaVuSans-52\"/>\n      </g>\n     </g>\n    </g>\n   </g>\n   <g id=\"matplotlib.axis_2\">\n    <g id=\"ytick_1\">\n     <g id=\"line2d_6\">\n      <defs>\n       <path d=\"M 0 0 \nL -3.5 0 \n\" id=\"m6976a9fc87\" style=\"stroke:#000000;stroke-width:0.8;\"/>\n      </defs>\n      <g>\n       <use style=\"stroke:#000000;stroke-width:0.8;\" x=\"39.65\" xlink:href=\"#m6976a9fc87\" y=\"227.540572\"/>\n      </g>\n     </g>\n     <g id=\"text_6\">\n      <!-- 0 -->\n      <g transform=\"translate(26.2875 231.339791)scale(0.1 -0.1)\">\n       <use xlink:href=\"#DejaVuSans-48\"/>\n      </g>\n     </g>\n    </g>\n    <g id=\"ytick_2\">\n     <g id=\"line2d_7\">\n      <g>\n       <use style=\"stroke:#000000;stroke-width:0.8;\" x=\"39.65\" xlink:href=\"#m6976a9fc87\" y=\"191.450347\"/>\n      </g>\n     </g>\n     <g id=\"text_7\">\n      <!-- 500 -->\n      <defs>\n       <path d=\"M 10.796875 72.90625 \nL 49.515625 72.90625 \nL 49.515625 64.59375 \nL 19.828125 64.59375 \nL 19.828125 46.734375 \nQ 21.96875 47.46875 24.109375 47.828125 \nQ 26.265625 48.1875 28.421875 48.1875 \nQ 40.625 48.1875 47.75 41.5 \nQ 54.890625 34.8125 54.890625 23.390625 \nQ 54.890625 11.625 47.5625 5.09375 \nQ 40.234375 -1.421875 26.90625 -1.421875 \nQ 22.3125 -1.421875 17.546875 -0.640625 \nQ 12.796875 0.140625 7.71875 1.703125 \nL 7.71875 11.625 \nQ 12.109375 9.234375 16.796875 8.0625 \nQ 21.484375 6.890625 26.703125 6.890625 \nQ 35.15625 6.890625 40.078125 11.328125 \nQ 45.015625 15.765625 45.015625 23.390625 \nQ 45.015625 31 40.078125 35.4375 \nQ 35.15625 39.890625 26.703125 39.890625 \nQ 22.75 39.890625 18.8125 39.015625 \nQ 14.890625 38.140625 10.796875 36.28125 \nz\n\" id=\"DejaVuSans-53\"/>\n      </defs>\n      <g transform=\"translate(13.5625 195.249565)scale(0.1 -0.1)\">\n       <use xlink:href=\"#DejaVuSans-53\"/>\n       <use x=\"63.623047\" xlink:href=\"#DejaVuSans-48\"/>\n       <use x=\"127.246094\" xlink:href=\"#DejaVuSans-48\"/>\n      </g>\n     </g>\n    </g>\n    <g id=\"ytick_3\">\n     <g id=\"line2d_8\">\n      <g>\n       <use style=\"stroke:#000000;stroke-width:0.8;\" x=\"39.65\" xlink:href=\"#m6976a9fc87\" y=\"155.360121\"/>\n      </g>\n     </g>\n     <g id=\"text_8\">\n      <!-- 1000 -->\n      <defs>\n       <path d=\"M 12.40625 8.296875 \nL 28.515625 8.296875 \nL 28.515625 63.921875 \nL 10.984375 60.40625 \nL 10.984375 69.390625 \nL 28.421875 72.90625 \nL 38.28125 72.90625 \nL 38.28125 8.296875 \nL 54.390625 8.296875 \nL 54.390625 0 \nL 12.40625 0 \nz\n\" id=\"DejaVuSans-49\"/>\n      </defs>\n      <g transform=\"translate(7.2 159.15934)scale(0.1 -0.1)\">\n       <use xlink:href=\"#DejaVuSans-49\"/>\n       <use x=\"63.623047\" xlink:href=\"#DejaVuSans-48\"/>\n       <use x=\"127.246094\" xlink:href=\"#DejaVuSans-48\"/>\n       <use x=\"190.869141\" xlink:href=\"#DejaVuSans-48\"/>\n      </g>\n     </g>\n    </g>\n    <g id=\"ytick_4\">\n     <g id=\"line2d_9\">\n      <g>\n       <use style=\"stroke:#000000;stroke-width:0.8;\" x=\"39.65\" xlink:href=\"#m6976a9fc87\" y=\"119.269895\"/>\n      </g>\n     </g>\n     <g id=\"text_9\">\n      <!-- 1500 -->\n      <g transform=\"translate(7.2 123.069114)scale(0.1 -0.1)\">\n       <use xlink:href=\"#DejaVuSans-49\"/>\n       <use x=\"63.623047\" xlink:href=\"#DejaVuSans-53\"/>\n       <use x=\"127.246094\" xlink:href=\"#DejaVuSans-48\"/>\n       <use x=\"190.869141\" xlink:href=\"#DejaVuSans-48\"/>\n      </g>\n     </g>\n    </g>\n    <g id=\"ytick_5\">\n     <g id=\"line2d_10\">\n      <g>\n       <use style=\"stroke:#000000;stroke-width:0.8;\" x=\"39.65\" xlink:href=\"#m6976a9fc87\" y=\"83.17967\"/>\n      </g>\n     </g>\n     <g id=\"text_10\">\n      <!-- 2000 -->\n      <g transform=\"translate(7.2 86.978889)scale(0.1 -0.1)\">\n       <use xlink:href=\"#DejaVuSans-50\"/>\n       <use x=\"63.623047\" xlink:href=\"#DejaVuSans-48\"/>\n       <use x=\"127.246094\" xlink:href=\"#DejaVuSans-48\"/>\n       <use x=\"190.869141\" xlink:href=\"#DejaVuSans-48\"/>\n      </g>\n     </g>\n    </g>\n    <g id=\"ytick_6\">\n     <g id=\"line2d_11\">\n      <g>\n       <use style=\"stroke:#000000;stroke-width:0.8;\" x=\"39.65\" xlink:href=\"#m6976a9fc87\" y=\"47.089444\"/>\n      </g>\n     </g>\n     <g id=\"text_11\">\n      <!-- 2500 -->\n      <g transform=\"translate(7.2 50.888663)scale(0.1 -0.1)\">\n       <use xlink:href=\"#DejaVuSans-50\"/>\n       <use x=\"63.623047\" xlink:href=\"#DejaVuSans-53\"/>\n       <use x=\"127.246094\" xlink:href=\"#DejaVuSans-48\"/>\n       <use x=\"190.869141\" xlink:href=\"#DejaVuSans-48\"/>\n      </g>\n     </g>\n    </g>\n    <g id=\"ytick_7\">\n     <g id=\"line2d_12\">\n      <g>\n       <use style=\"stroke:#000000;stroke-width:0.8;\" x=\"39.65\" xlink:href=\"#m6976a9fc87\" y=\"10.999219\"/>\n      </g>\n     </g>\n     <g id=\"text_12\">\n      <!-- 3000 -->\n      <defs>\n       <path d=\"M 40.578125 39.3125 \nQ 47.65625 37.796875 51.625 33 \nQ 55.609375 28.21875 55.609375 21.1875 \nQ 55.609375 10.40625 48.1875 4.484375 \nQ 40.765625 -1.421875 27.09375 -1.421875 \nQ 22.515625 -1.421875 17.65625 -0.515625 \nQ 12.796875 0.390625 7.625 2.203125 \nL 7.625 11.71875 \nQ 11.71875 9.328125 16.59375 8.109375 \nQ 21.484375 6.890625 26.8125 6.890625 \nQ 36.078125 6.890625 40.9375 10.546875 \nQ 45.796875 14.203125 45.796875 21.1875 \nQ 45.796875 27.640625 41.28125 31.265625 \nQ 36.765625 34.90625 28.71875 34.90625 \nL 20.21875 34.90625 \nL 20.21875 43.015625 \nL 29.109375 43.015625 \nQ 36.375 43.015625 40.234375 45.921875 \nQ 44.09375 48.828125 44.09375 54.296875 \nQ 44.09375 59.90625 40.109375 62.90625 \nQ 36.140625 65.921875 28.71875 65.921875 \nQ 24.65625 65.921875 20.015625 65.03125 \nQ 15.375 64.15625 9.8125 62.3125 \nL 9.8125 71.09375 \nQ 15.4375 72.65625 20.34375 73.4375 \nQ 25.25 74.21875 29.59375 74.21875 \nQ 40.828125 74.21875 47.359375 69.109375 \nQ 53.90625 64.015625 53.90625 55.328125 \nQ 53.90625 49.265625 50.4375 45.09375 \nQ 46.96875 40.921875 40.578125 39.3125 \nz\n\" id=\"DejaVuSans-51\"/>\n      </defs>\n      <g transform=\"translate(7.2 14.798437)scale(0.1 -0.1)\">\n       <use xlink:href=\"#DejaVuSans-51\"/>\n       <use x=\"63.623047\" xlink:href=\"#DejaVuSans-48\"/>\n       <use x=\"127.246094\" xlink:href=\"#DejaVuSans-48\"/>\n       <use x=\"190.869141\" xlink:href=\"#DejaVuSans-48\"/>\n      </g>\n     </g>\n    </g>\n   </g>\n   <g id=\"patch_13\">\n    <path d=\"M 39.65 227.540572 \nL 39.65 10.100572 \n\" style=\"fill:none;stroke:#000000;stroke-linecap:square;stroke-linejoin:miter;stroke-width:0.8;\"/>\n   </g>\n   <g id=\"patch_14\">\n    <path d=\"M 374.45 227.540572 \nL 374.45 10.100572 \n\" style=\"fill:none;stroke:#000000;stroke-linecap:square;stroke-linejoin:miter;stroke-width:0.8;\"/>\n   </g>\n   <g id=\"patch_15\">\n    <path d=\"M 39.65 227.540572 \nL 374.45 227.540572 \n\" style=\"fill:none;stroke:#000000;stroke-linecap:square;stroke-linejoin:miter;stroke-width:0.8;\"/>\n   </g>\n   <g id=\"patch_16\">\n    <path d=\"M 39.65 10.100572 \nL 374.45 10.100572 \n\" style=\"fill:none;stroke:#000000;stroke-linecap:square;stroke-linejoin:miter;stroke-width:0.8;\"/>\n   </g>\n  </g>\n </g>\n <defs>\n  <clipPath id=\"p5e941b24be\">\n   <rect height=\"217.44\" width=\"334.8\" x=\"39.65\" y=\"10.100572\"/>\n  </clipPath>\n </defs>\n</svg>\n",
      "image/png": "[encoded data removed]"
     },
     "metadata": {
      "needs_background": "light"
     }
    }
   ],
   "source": [
    "plt.hist(p_diffs);"
   ]
  },
  {
   "cell_type": "markdown",
   "metadata": {},
   "source": [
    "j. What proportion of the **p_diffs** are greater than the actual difference observed in **ab_data.csv**?"
   ]
  },
  {
   "cell_type": "code",
   "execution_count": 29,
   "metadata": {},
   "outputs": [
    {
     "output_type": "execute_result",
     "data": {
      "text/plain": [
       "-0.0015790565976871451"
      ]
     },
     "metadata": {},
     "execution_count": 29
    }
   ],
   "source": [
    "treatment_conv = df2.query('group == \"treatment\"')['converted'].mean()\n",
    "control_conv = df2.query('group == \"control\"')['converted'].mean()\n",
    "obs_diff = treatment_conv - control_conv\n",
    "obs_diff"
   ]
  },
  {
   "cell_type": "code",
   "execution_count": 30,
   "metadata": {},
   "outputs": [
    {
     "output_type": "execute_result",
     "data": {
      "text/plain": [
       "0.9111"
      ]
     },
     "metadata": {},
     "execution_count": 30
    }
   ],
   "source": [
    "# diference\n",
    "p_d = (p_diffs > obs_diff).mean()\n",
    "p_d"
   ]
  },
  {
   "cell_type": "code",
   "execution_count": 31,
   "metadata": {},
   "outputs": [
    {
     "output_type": "display_data",
     "data": {
      "text/plain": "<Figure size 432x288 with 1 Axes>",
      "image/svg+xml": "<?xml version=\"1.0\" encoding=\"utf-8\" standalone=\"no\"?>\n<!DOCTYPE svg PUBLIC \"-//W3C//DTD SVG 1.1//EN\"\n  \"http://www.w3.org/Graphics/SVG/1.1/DTD/svg11.dtd\">\n<!-- Created with matplotlib (https://matplotlib.org/) -->\n<svg height=\"251.418697pt\" version=\"1.1\" viewBox=\"0 0 381.65 251.418697\" width=\"381.65pt\" xmlns=\"http://www.w3.org/2000/svg\" xmlns:xlink=\"http://www.w3.org/1999/xlink\">\n <defs>\n  <style type=\"text/css\">\n*{stroke-linecap:butt;stroke-linejoin:round;}\n  </style>\n </defs>\n <g id=\"figure_1\">\n  <g id=\"patch_1\">\n   <path d=\"M -0 251.418697 \nL 381.65 251.418697 \nL 381.65 0 \nL -0 0 \nz\n\" style=\"fill:none;\"/>\n  </g>\n  <g id=\"axes_1\">\n   <g id=\"patch_2\">\n    <path d=\"M 39.65 227.540572 \nL 374.45 227.540572 \nL 374.45 10.100572 \nL 39.65 10.100572 \nz\n\" style=\"fill:#ffffff;\"/>\n   </g>\n   <g id=\"patch_3\">\n    <path clip-path=\"url(#p45b1985aca)\" d=\"M 54.868182 227.540572 \nL 85.304545 227.540572 \nL 85.304545 225.66388 \nL 54.868182 225.66388 \nz\n\" style=\"fill:#1f77b4;opacity:0.5;\"/>\n   </g>\n   <g id=\"patch_4\">\n    <path clip-path=\"url(#p45b1985aca)\" d=\"M 85.304545 227.540572 \nL 115.740909 227.540572 \nL 115.740909 214.47591 \nL 85.304545 214.47591 \nz\n\" style=\"fill:#1f77b4;opacity:0.5;\"/>\n   </g>\n   <g id=\"patch_5\">\n    <path clip-path=\"url(#p45b1985aca)\" d=\"M 115.740909 227.540572 \nL 146.177273 227.540572 \nL 146.177273 177.086437 \nL 115.740909 177.086437 \nz\n\" style=\"fill:#1f77b4;opacity:0.5;\"/>\n   </g>\n   <g id=\"patch_6\">\n    <path clip-path=\"url(#p45b1985aca)\" d=\"M 146.177273 227.540572 \nL 176.613636 227.540572 \nL 176.613636 89.387189 \nL 146.177273 89.387189 \nz\n\" style=\"fill:#1f77b4;opacity:0.5;\"/>\n   </g>\n   <g id=\"patch_7\">\n    <path clip-path=\"url(#p45b1985aca)\" d=\"M 176.613636 227.540572 \nL 207.05 227.540572 \nL 207.05 20.454858 \nL 176.613636 20.454858 \nz\n\" style=\"fill:#1f77b4;opacity:0.5;\"/>\n   </g>\n   <g id=\"patch_8\">\n    <path clip-path=\"url(#p45b1985aca)\" d=\"M 207.05 227.540572 \nL 237.486364 227.540572 \nL 237.486364 42.830798 \nL 207.05 42.830798 \nz\n\" style=\"fill:#1f77b4;opacity:0.5;\"/>\n   </g>\n   <g id=\"patch_9\">\n    <path clip-path=\"url(#p45b1985aca)\" d=\"M 237.486364 227.540572 \nL 267.922727 227.540572 \nL 267.922727 135.221775 \nL 237.486364 135.221775 \nz\n\" style=\"fill:#1f77b4;opacity:0.5;\"/>\n   </g>\n   <g id=\"patch_10\">\n    <path clip-path=\"url(#p45b1985aca)\" d=\"M 267.922727 227.540572 \nL 298.359091 227.540572 \nL 298.359091 198.524031 \nL 267.922727 198.524031 \nz\n\" style=\"fill:#1f77b4;opacity:0.5;\"/>\n   </g>\n   <g id=\"patch_11\">\n    <path clip-path=\"url(#p45b1985aca)\" d=\"M 298.359091 227.540572 \nL 328.795455 227.540572 \nL 328.795455 223.137565 \nL 298.359091 223.137565 \nz\n\" style=\"fill:#1f77b4;opacity:0.5;\"/>\n   </g>\n   <g id=\"patch_12\">\n    <path clip-path=\"url(#p45b1985aca)\" d=\"M 328.795455 227.540572 \nL 359.231818 227.540572 \nL 359.231818 226.818768 \nL 328.795455 226.818768 \nz\n\" style=\"fill:#1f77b4;opacity:0.5;\"/>\n   </g>\n   <g id=\"matplotlib.axis_1\">\n    <g id=\"xtick_1\">\n     <g id=\"line2d_1\">\n      <defs>\n       <path d=\"M 0 0 \nL 0 3.5 \n\" id=\"mfacaf68b3a\" style=\"stroke:#000000;stroke-width:0.8;\"/>\n      </defs>\n      <g>\n       <use style=\"stroke:#000000;stroke-width:0.8;\" x=\"63.969262\" xlink:href=\"#mfacaf68b3a\" y=\"227.540572\"/>\n      </g>\n     </g>\n     <g id=\"text_1\">\n      <!-- −0.004 -->\n      <defs>\n       <path d=\"M 10.59375 35.5 \nL 73.1875 35.5 \nL 73.1875 27.203125 \nL 10.59375 27.203125 \nz\n\" id=\"DejaVuSans-8722\"/>\n       <path d=\"M 31.78125 66.40625 \nQ 24.171875 66.40625 20.328125 58.90625 \nQ 16.5 51.421875 16.5 36.375 \nQ 16.5 21.390625 20.328125 13.890625 \nQ 24.171875 6.390625 31.78125 6.390625 \nQ 39.453125 6.390625 43.28125 13.890625 \nQ 47.125 21.390625 47.125 36.375 \nQ 47.125 51.421875 43.28125 58.90625 \nQ 39.453125 66.40625 31.78125 66.40625 \nz\nM 31.78125 74.21875 \nQ 44.046875 74.21875 50.515625 64.515625 \nQ 56.984375 54.828125 56.984375 36.375 \nQ 56.984375 17.96875 50.515625 8.265625 \nQ 44.046875 -1.421875 31.78125 -1.421875 \nQ 19.53125 -1.421875 13.0625 8.265625 \nQ 6.59375 17.96875 6.59375 36.375 \nQ 6.59375 54.828125 13.0625 64.515625 \nQ 19.53125 74.21875 31.78125 74.21875 \nz\n\" id=\"DejaVuSans-48\"/>\n       <path d=\"M 10.6875 12.40625 \nL 21 12.40625 \nL 21 0 \nL 10.6875 0 \nz\n\" id=\"DejaVuSans-46\"/>\n       <path d=\"M 37.796875 64.3125 \nL 12.890625 25.390625 \nL 37.796875 25.390625 \nz\nM 35.203125 72.90625 \nL 47.609375 72.90625 \nL 47.609375 25.390625 \nL 58.015625 25.390625 \nL 58.015625 17.1875 \nL 47.609375 17.1875 \nL 47.609375 0 \nL 37.796875 0 \nL 37.796875 17.1875 \nL 4.890625 17.1875 \nL 4.890625 26.703125 \nz\n\" id=\"DejaVuSans-52\"/>\n      </defs>\n      <g transform=\"translate(45.465355 242.13901)scale(0.1 -0.1)\">\n       <use xlink:href=\"#DejaVuSans-8722\"/>\n       <use x=\"83.789062\" xlink:href=\"#DejaVuSans-48\"/>\n       <use x=\"147.412109\" xlink:href=\"#DejaVuSans-46\"/>\n       <use x=\"179.199219\" xlink:href=\"#DejaVuSans-48\"/>\n       <use x=\"242.822266\" xlink:href=\"#DejaVuSans-48\"/>\n       <use x=\"306.445312\" xlink:href=\"#DejaVuSans-52\"/>\n      </g>\n     </g>\n    </g>\n    <g id=\"xtick_2\">\n     <g id=\"line2d_2\">\n      <g>\n       <use style=\"stroke:#000000;stroke-width:0.8;\" x=\"131.535366\" xlink:href=\"#mfacaf68b3a\" y=\"227.540572\"/>\n      </g>\n     </g>\n     <g id=\"text_2\">\n      <!-- −0.002 -->\n      <defs>\n       <path d=\"M 19.1875 8.296875 \nL 53.609375 8.296875 \nL 53.609375 0 \nL 7.328125 0 \nL 7.328125 8.296875 \nQ 12.9375 14.109375 22.625 23.890625 \nQ 32.328125 33.6875 34.8125 36.53125 \nQ 39.546875 41.84375 41.421875 45.53125 \nQ 43.3125 49.21875 43.3125 52.78125 \nQ 43.3125 58.59375 39.234375 62.25 \nQ 35.15625 65.921875 28.609375 65.921875 \nQ 23.96875 65.921875 18.8125 64.3125 \nQ 13.671875 62.703125 7.8125 59.421875 \nL 7.8125 69.390625 \nQ 13.765625 71.78125 18.9375 73 \nQ 24.125 74.21875 28.421875 74.21875 \nQ 39.75 74.21875 46.484375 68.546875 \nQ 53.21875 62.890625 53.21875 53.421875 \nQ 53.21875 48.921875 51.53125 44.890625 \nQ 49.859375 40.875 45.40625 35.40625 \nQ 44.1875 33.984375 37.640625 27.21875 \nQ 31.109375 20.453125 19.1875 8.296875 \nz\n\" id=\"DejaVuSans-50\"/>\n      </defs>\n      <g transform=\"translate(113.03146 242.13901)scale(0.1 -0.1)\">\n       <use xlink:href=\"#DejaVuSans-8722\"/>\n       <use x=\"83.789062\" xlink:href=\"#DejaVuSans-48\"/>\n       <use x=\"147.412109\" xlink:href=\"#DejaVuSans-46\"/>\n       <use x=\"179.199219\" xlink:href=\"#DejaVuSans-48\"/>\n       <use x=\"242.822266\" xlink:href=\"#DejaVuSans-48\"/>\n       <use x=\"306.445312\" xlink:href=\"#DejaVuSans-50\"/>\n      </g>\n     </g>\n    </g>\n    <g id=\"xtick_3\">\n     <g id=\"line2d_3\">\n      <g>\n       <use style=\"stroke:#000000;stroke-width:0.8;\" x=\"199.10147\" xlink:href=\"#mfacaf68b3a\" y=\"227.540572\"/>\n      </g>\n     </g>\n     <g id=\"text_3\">\n      <!-- 0.000 -->\n      <g transform=\"translate(184.787407 242.13901)scale(0.1 -0.1)\">\n       <use xlink:href=\"#DejaVuSans-48\"/>\n       <use x=\"63.623047\" xlink:href=\"#DejaVuSans-46\"/>\n       <use x=\"95.410156\" xlink:href=\"#DejaVuSans-48\"/>\n       <use x=\"159.033203\" xlink:href=\"#DejaVuSans-48\"/>\n       <use x=\"222.65625\" xlink:href=\"#DejaVuSans-48\"/>\n      </g>\n     </g>\n    </g>\n    <g id=\"xtick_4\">\n     <g id=\"line2d_4\">\n      <g>\n       <use style=\"stroke:#000000;stroke-width:0.8;\" x=\"266.667574\" xlink:href=\"#mfacaf68b3a\" y=\"227.540572\"/>\n      </g>\n     </g>\n     <g id=\"text_4\">\n      <!-- 0.002 -->\n      <g transform=\"translate(252.353511 242.13901)scale(0.1 -0.1)\">\n       <use xlink:href=\"#DejaVuSans-48\"/>\n       <use x=\"63.623047\" xlink:href=\"#DejaVuSans-46\"/>\n       <use x=\"95.410156\" xlink:href=\"#DejaVuSans-48\"/>\n       <use x=\"159.033203\" xlink:href=\"#DejaVuSans-48\"/>\n       <use x=\"222.65625\" xlink:href=\"#DejaVuSans-50\"/>\n      </g>\n     </g>\n    </g>\n    <g id=\"xtick_5\">\n     <g id=\"line2d_5\">\n      <g>\n       <use style=\"stroke:#000000;stroke-width:0.8;\" x=\"334.233678\" xlink:href=\"#mfacaf68b3a\" y=\"227.540572\"/>\n      </g>\n     </g>\n     <g id=\"text_5\">\n      <!-- 0.004 -->\n      <g transform=\"translate(319.919616 242.13901)scale(0.1 -0.1)\">\n       <use xlink:href=\"#DejaVuSans-48\"/>\n       <use x=\"63.623047\" xlink:href=\"#DejaVuSans-46\"/>\n       <use x=\"95.410156\" xlink:href=\"#DejaVuSans-48\"/>\n       <use x=\"159.033203\" xlink:href=\"#DejaVuSans-48\"/>\n       <use x=\"222.65625\" xlink:href=\"#DejaVuSans-52\"/>\n      </g>\n     </g>\n    </g>\n   </g>\n   <g id=\"matplotlib.axis_2\">\n    <g id=\"ytick_1\">\n     <g id=\"line2d_6\">\n      <defs>\n       <path d=\"M 0 0 \nL -3.5 0 \n\" id=\"m02ea0724d8\" style=\"stroke:#000000;stroke-width:0.8;\"/>\n      </defs>\n      <g>\n       <use style=\"stroke:#000000;stroke-width:0.8;\" x=\"39.65\" xlink:href=\"#m02ea0724d8\" y=\"227.540572\"/>\n      </g>\n     </g>\n     <g id=\"text_6\">\n      <!-- 0 -->\n      <g transform=\"translate(26.2875 231.339791)scale(0.1 -0.1)\">\n       <use xlink:href=\"#DejaVuSans-48\"/>\n      </g>\n     </g>\n    </g>\n    <g id=\"ytick_2\">\n     <g id=\"line2d_7\">\n      <g>\n       <use style=\"stroke:#000000;stroke-width:0.8;\" x=\"39.65\" xlink:href=\"#m02ea0724d8\" y=\"191.450347\"/>\n      </g>\n     </g>\n     <g id=\"text_7\">\n      <!-- 500 -->\n      <defs>\n       <path d=\"M 10.796875 72.90625 \nL 49.515625 72.90625 \nL 49.515625 64.59375 \nL 19.828125 64.59375 \nL 19.828125 46.734375 \nQ 21.96875 47.46875 24.109375 47.828125 \nQ 26.265625 48.1875 28.421875 48.1875 \nQ 40.625 48.1875 47.75 41.5 \nQ 54.890625 34.8125 54.890625 23.390625 \nQ 54.890625 11.625 47.5625 5.09375 \nQ 40.234375 -1.421875 26.90625 -1.421875 \nQ 22.3125 -1.421875 17.546875 -0.640625 \nQ 12.796875 0.140625 7.71875 1.703125 \nL 7.71875 11.625 \nQ 12.109375 9.234375 16.796875 8.0625 \nQ 21.484375 6.890625 26.703125 6.890625 \nQ 35.15625 6.890625 40.078125 11.328125 \nQ 45.015625 15.765625 45.015625 23.390625 \nQ 45.015625 31 40.078125 35.4375 \nQ 35.15625 39.890625 26.703125 39.890625 \nQ 22.75 39.890625 18.8125 39.015625 \nQ 14.890625 38.140625 10.796875 36.28125 \nz\n\" id=\"DejaVuSans-53\"/>\n      </defs>\n      <g transform=\"translate(13.5625 195.249565)scale(0.1 -0.1)\">\n       <use xlink:href=\"#DejaVuSans-53\"/>\n       <use x=\"63.623047\" xlink:href=\"#DejaVuSans-48\"/>\n       <use x=\"127.246094\" xlink:href=\"#DejaVuSans-48\"/>\n      </g>\n     </g>\n    </g>\n    <g id=\"ytick_3\">\n     <g id=\"line2d_8\">\n      <g>\n       <use style=\"stroke:#000000;stroke-width:0.8;\" x=\"39.65\" xlink:href=\"#m02ea0724d8\" y=\"155.360121\"/>\n      </g>\n     </g>\n     <g id=\"text_8\">\n      <!-- 1000 -->\n      <defs>\n       <path d=\"M 12.40625 8.296875 \nL 28.515625 8.296875 \nL 28.515625 63.921875 \nL 10.984375 60.40625 \nL 10.984375 69.390625 \nL 28.421875 72.90625 \nL 38.28125 72.90625 \nL 38.28125 8.296875 \nL 54.390625 8.296875 \nL 54.390625 0 \nL 12.40625 0 \nz\n\" id=\"DejaVuSans-49\"/>\n      </defs>\n      <g transform=\"translate(7.2 159.15934)scale(0.1 -0.1)\">\n       <use xlink:href=\"#DejaVuSans-49\"/>\n       <use x=\"63.623047\" xlink:href=\"#DejaVuSans-48\"/>\n       <use x=\"127.246094\" xlink:href=\"#DejaVuSans-48\"/>\n       <use x=\"190.869141\" xlink:href=\"#DejaVuSans-48\"/>\n      </g>\n     </g>\n    </g>\n    <g id=\"ytick_4\">\n     <g id=\"line2d_9\">\n      <g>\n       <use style=\"stroke:#000000;stroke-width:0.8;\" x=\"39.65\" xlink:href=\"#m02ea0724d8\" y=\"119.269895\"/>\n      </g>\n     </g>\n     <g id=\"text_9\">\n      <!-- 1500 -->\n      <g transform=\"translate(7.2 123.069114)scale(0.1 -0.1)\">\n       <use xlink:href=\"#DejaVuSans-49\"/>\n       <use x=\"63.623047\" xlink:href=\"#DejaVuSans-53\"/>\n       <use x=\"127.246094\" xlink:href=\"#DejaVuSans-48\"/>\n       <use x=\"190.869141\" xlink:href=\"#DejaVuSans-48\"/>\n      </g>\n     </g>\n    </g>\n    <g id=\"ytick_5\">\n     <g id=\"line2d_10\">\n      <g>\n       <use style=\"stroke:#000000;stroke-width:0.8;\" x=\"39.65\" xlink:href=\"#m02ea0724d8\" y=\"83.17967\"/>\n      </g>\n     </g>\n     <g id=\"text_10\">\n      <!-- 2000 -->\n      <g transform=\"translate(7.2 86.978889)scale(0.1 -0.1)\">\n       <use xlink:href=\"#DejaVuSans-50\"/>\n       <use x=\"63.623047\" xlink:href=\"#DejaVuSans-48\"/>\n       <use x=\"127.246094\" xlink:href=\"#DejaVuSans-48\"/>\n       <use x=\"190.869141\" xlink:href=\"#DejaVuSans-48\"/>\n      </g>\n     </g>\n    </g>\n    <g id=\"ytick_6\">\n     <g id=\"line2d_11\">\n      <g>\n       <use style=\"stroke:#000000;stroke-width:0.8;\" x=\"39.65\" xlink:href=\"#m02ea0724d8\" y=\"47.089444\"/>\n      </g>\n     </g>\n     <g id=\"text_11\">\n      <!-- 2500 -->\n      <g transform=\"translate(7.2 50.888663)scale(0.1 -0.1)\">\n       <use xlink:href=\"#DejaVuSans-50\"/>\n       <use x=\"63.623047\" xlink:href=\"#DejaVuSans-53\"/>\n       <use x=\"127.246094\" xlink:href=\"#DejaVuSans-48\"/>\n       <use x=\"190.869141\" xlink:href=\"#DejaVuSans-48\"/>\n      </g>\n     </g>\n    </g>\n    <g id=\"ytick_7\">\n     <g id=\"line2d_12\">\n      <g>\n       <use style=\"stroke:#000000;stroke-width:0.8;\" x=\"39.65\" xlink:href=\"#m02ea0724d8\" y=\"10.999219\"/>\n      </g>\n     </g>\n     <g id=\"text_12\">\n      <!-- 3000 -->\n      <defs>\n       <path d=\"M 40.578125 39.3125 \nQ 47.65625 37.796875 51.625 33 \nQ 55.609375 28.21875 55.609375 21.1875 \nQ 55.609375 10.40625 48.1875 4.484375 \nQ 40.765625 -1.421875 27.09375 -1.421875 \nQ 22.515625 -1.421875 17.65625 -0.515625 \nQ 12.796875 0.390625 7.625 2.203125 \nL 7.625 11.71875 \nQ 11.71875 9.328125 16.59375 8.109375 \nQ 21.484375 6.890625 26.8125 6.890625 \nQ 36.078125 6.890625 40.9375 10.546875 \nQ 45.796875 14.203125 45.796875 21.1875 \nQ 45.796875 27.640625 41.28125 31.265625 \nQ 36.765625 34.90625 28.71875 34.90625 \nL 20.21875 34.90625 \nL 20.21875 43.015625 \nL 29.109375 43.015625 \nQ 36.375 43.015625 40.234375 45.921875 \nQ 44.09375 48.828125 44.09375 54.296875 \nQ 44.09375 59.90625 40.109375 62.90625 \nQ 36.140625 65.921875 28.71875 65.921875 \nQ 24.65625 65.921875 20.015625 65.03125 \nQ 15.375 64.15625 9.8125 62.3125 \nL 9.8125 71.09375 \nQ 15.4375 72.65625 20.34375 73.4375 \nQ 25.25 74.21875 29.59375 74.21875 \nQ 40.828125 74.21875 47.359375 69.109375 \nQ 53.90625 64.015625 53.90625 55.328125 \nQ 53.90625 49.265625 50.4375 45.09375 \nQ 46.96875 40.921875 40.578125 39.3125 \nz\n\" id=\"DejaVuSans-51\"/>\n      </defs>\n      <g transform=\"translate(7.2 14.798437)scale(0.1 -0.1)\">\n       <use xlink:href=\"#DejaVuSans-51\"/>\n       <use x=\"63.623047\" xlink:href=\"#DejaVuSans-48\"/>\n       <use x=\"127.246094\" xlink:href=\"#DejaVuSans-48\"/>\n       <use x=\"190.869141\" xlink:href=\"#DejaVuSans-48\"/>\n      </g>\n     </g>\n    </g>\n   </g>\n   <g id=\"line2d_13\">\n    <path clip-path=\"url(#p45b1985aca)\" d=\"M 145.756119 227.540572 \nL 145.756119 10.100572 \n\" style=\"fill:none;stroke:#ff0000;stroke-linecap:square;stroke-width:1.5;\"/>\n   </g>\n   <g id=\"patch_13\">\n    <path d=\"M 39.65 227.540572 \nL 39.65 10.100572 \n\" style=\"fill:none;stroke:#000000;stroke-linecap:square;stroke-linejoin:miter;stroke-width:0.8;\"/>\n   </g>\n   <g id=\"patch_14\">\n    <path d=\"M 374.45 227.540572 \nL 374.45 10.100572 \n\" style=\"fill:none;stroke:#000000;stroke-linecap:square;stroke-linejoin:miter;stroke-width:0.8;\"/>\n   </g>\n   <g id=\"patch_15\">\n    <path d=\"M 39.65 227.540572 \nL 374.45 227.540572 \n\" style=\"fill:none;stroke:#000000;stroke-linecap:square;stroke-linejoin:miter;stroke-width:0.8;\"/>\n   </g>\n   <g id=\"patch_16\">\n    <path d=\"M 39.65 10.100572 \nL 374.45 10.100572 \n\" style=\"fill:none;stroke:#000000;stroke-linecap:square;stroke-linejoin:miter;stroke-width:0.8;\"/>\n   </g>\n  </g>\n </g>\n <defs>\n  <clipPath id=\"p45b1985aca\">\n   <rect height=\"217.44\" width=\"334.8\" x=\"39.65\" y=\"10.100572\"/>\n  </clipPath>\n </defs>\n</svg>\n",
      "image/png": "[encoded data removed]"
     },
     "metadata": {
      "needs_background": "light"
     }
    }
   ],
   "source": [
    "plt.hist(p_diffs, alpha=.5)\n",
    "plt.axvline(x=obs_diff, color='red');"
   ]
  },
  {
   "cell_type": "markdown",
   "metadata": {},
   "source": [
    "**Here we calculate the p-value for calculating the probablity of the statistics. We can see both the pages performs equally as there is no much of a change. Hence we can conclude that null hypothesis is true.**"
   ]
  },
  {
   "cell_type": "markdown",
   "metadata": {},
   "source": [
    "l. We could also use a built-in to achieve similar results.  Though using the built-in might be easier to code, the above portions are a walkthrough of the ideas that are critical to correctly thinking about statistical significance. Calculate the number of conversions for each page, as well as the number of individuals who received each page. Let `n_old` and `n_new` refer the the number of rows associated with the old page and new pages, respectively."
   ]
  },
  {
   "cell_type": "code",
   "execution_count": 32,
   "metadata": {},
   "outputs": [
    {
     "output_type": "execute_result",
     "data": {
      "text/plain": [
       "(0.1203863045004612, 0.11880724790277405, 145274, 145310)"
      ]
     },
     "metadata": {},
     "execution_count": 32
    }
   ],
   "source": [
    "import statsmodels.api as sm\n",
    "\n",
    "control_conv,treatment_conv,n_old,n_new\n"
   ]
  },
  {
   "cell_type": "code",
   "execution_count": 33,
   "metadata": {},
   "outputs": [],
   "source": [
    "control_convt = df2.query('converted == 1 and landing_page == \"old_page\"')['user_id'].nunique()\n",
    "treatment_convt = df2.query('converted == 1 and landing_page == \"new_page\"')['user_id'].nunique()"
   ]
  },
  {
   "cell_type": "markdown",
   "metadata": {},
   "source": [
    "m. Now use `stats.proportions_ztest` to compute test statistic and p-value."
   ]
  },
  {
   "cell_type": "code",
   "execution_count": 34,
   "metadata": {},
   "outputs": [
    {
     "output_type": "execute_result",
     "data": {
      "text/plain": [
       "(1.3109241984234394, 0.9050583127590245)"
      ]
     },
     "metadata": {},
     "execution_count": 34
    }
   ],
   "source": [
    "z_score, p_value = sm.stats.proportions_ztest([control_convt, treatment_convt], [n_old, n_new], alternative = 'smaller')\n",
    "z_score, p_value"
   ]
  },
  {
   "cell_type": "code",
   "execution_count": 35,
   "metadata": {},
   "outputs": [
    {
     "output_type": "execute_result",
     "data": {
      "text/plain": [
       "(0.9050583127590245, 1.959963984540054)"
      ]
     },
     "metadata": {},
     "execution_count": 35
    }
   ],
   "source": [
    "from scipy.stats import norm\n",
    "\n",
    "norm.cdf(z_score), norm.ppf(1-(0.05/2)) # Z score significance , calculating critical value at 95% confidence level //"
   ]
  },
  {
   "cell_type": "markdown",
   "metadata": {},
   "source": [
    "**1. Z-score : 1.3109241 is less than the critical value of 1.959963. Hence we can conclude it as null hypothesis.**\n",
    "\n",
    "**2. We find that old pages performs a bit well.**"
   ]
  },
  {
   "cell_type": "markdown",
   "metadata": {},
   "source": [
    "<a id='regression'></a>\n",
    "### Part III - A regression approach\n",
    "\n",
    "`1.` In this final part, we will see that the results achieved in the A/B test in Part II above can also be achieved by performing regression. \n",
    "\n",
    "a. Since each row is either a conversion or no conversion, logistic regression model should be performed in this."
   ]
  },
  {
   "cell_type": "markdown",
   "metadata": {},
   "source": [
    "**Logistic regression model.**"
   ]
  },
  {
   "cell_type": "markdown",
   "metadata": {},
   "source": [
    "b. The goal is to use **statsmodels** to fit the regression model specified to see if there is a significant difference in conversion based on which page a customer receives. However, we first need to create in df2 a column for the intercept, and create a dummy variable column for which page each user received.  Add an **intercept** column, as well as an **ab_page** column, which is 1 when an individual receives the **treatment** and 0 if **control**."
   ]
  },
  {
   "cell_type": "code",
   "execution_count": 36,
   "metadata": {},
   "outputs": [
    {
     "output_type": "execute_result",
     "data": {
      "text/plain": [
       "   user_id                   timestamp      group landing_page  converted  \\\n",
       "0   851104  2017-01-21 22:11:48.556739    control     old_page          0   \n",
       "1   804228  2017-01-12 08:01:45.159739    control     old_page          0   \n",
       "2   661590  2017-01-11 16:55:06.154213  treatment     new_page          0   \n",
       "3   853541  2017-01-08 18:28:03.143765  treatment     new_page          0   \n",
       "4   864975  2017-01-21 01:52:26.210827    control     old_page          1   \n",
       "\n",
       "   intercept  new_page  old_page  ab_page  \n",
       "0          1         0         1        0  \n",
       "1          1         0         1        0  \n",
       "2          1         1         0        1  \n",
       "3          1         1         0        1  \n",
       "4          1         0         1        0  "
      ],
      "text/html": "<div>\n<style scoped>\n    .dataframe tbody tr th:only-of-type {\n        vertical-align: middle;\n    }\n\n    .dataframe tbody tr th {\n        vertical-align: top;\n    }\n\n    .dataframe thead th {\n        text-align: right;\n    }\n</style>\n<table border=\"1\" class=\"dataframe\">\n  <thead>\n    <tr style=\"text-align: right;\">\n      <th></th>\n      <th>user_id</th>\n      <th>timestamp</th>\n      <th>group</th>\n      <th>landing_page</th>\n      <th>converted</th>\n      <th>intercept</th>\n      <th>new_page</th>\n      <th>old_page</th>\n      <th>ab_page</th>\n    </tr>\n  </thead>\n  <tbody>\n    <tr>\n      <th>0</th>\n      <td>851104</td>\n      <td>2017-01-21 22:11:48.556739</td>\n      <td>control</td>\n      <td>old_page</td>\n      <td>0</td>\n      <td>1</td>\n      <td>0</td>\n      <td>1</td>\n      <td>0</td>\n    </tr>\n    <tr>\n      <th>1</th>\n      <td>804228</td>\n      <td>2017-01-12 08:01:45.159739</td>\n      <td>control</td>\n      <td>old_page</td>\n      <td>0</td>\n      <td>1</td>\n      <td>0</td>\n      <td>1</td>\n      <td>0</td>\n    </tr>\n    <tr>\n      <th>2</th>\n      <td>661590</td>\n      <td>2017-01-11 16:55:06.154213</td>\n      <td>treatment</td>\n      <td>new_page</td>\n      <td>0</td>\n      <td>1</td>\n      <td>1</td>\n      <td>0</td>\n      <td>1</td>\n    </tr>\n    <tr>\n      <th>3</th>\n      <td>853541</td>\n      <td>2017-01-08 18:28:03.143765</td>\n      <td>treatment</td>\n      <td>new_page</td>\n      <td>0</td>\n      <td>1</td>\n      <td>1</td>\n      <td>0</td>\n      <td>1</td>\n    </tr>\n    <tr>\n      <th>4</th>\n      <td>864975</td>\n      <td>2017-01-21 01:52:26.210827</td>\n      <td>control</td>\n      <td>old_page</td>\n      <td>1</td>\n      <td>1</td>\n      <td>0</td>\n      <td>1</td>\n      <td>0</td>\n    </tr>\n  </tbody>\n</table>\n</div>"
     },
     "metadata": {},
     "execution_count": 36
    }
   ],
   "source": [
    "df2['intercept'] = 1\n",
    "df2= df2.join(pd.get_dummies(df2['landing_page']))\n",
    "df2['ab_page'] = pd.get_dummies(df['group']) ['treatment']\n",
    "df2.head()"
   ]
  },
  {
   "cell_type": "markdown",
   "metadata": {},
   "source": [
    "c. Use **statsmodels** to instantiate your regression model on the two columns you created in part b., then fit the model using the two columns to predict whether or not an individual converts. "
   ]
  },
  {
   "cell_type": "code",
   "execution_count": 37,
   "metadata": {},
   "outputs": [
    {
     "output_type": "stream",
     "name": "stdout",
     "text": [
      "Optimization terminated successfully.\n         Current function value: 0.366118\n         Iterations 6\n"
     ]
    }
   ],
   "source": [
    "lo = sm.Logit(df2['converted'], df2[['intercept','ab_page']])\n",
    "result = lo.fit()"
   ]
  },
  {
   "cell_type": "markdown",
   "metadata": {},
   "source": [
    "d. Provide the summary of model below, and use it as necessary to answer the following questions."
   ]
  },
  {
   "cell_type": "code",
   "execution_count": 38,
   "metadata": {},
   "outputs": [
    {
     "output_type": "stream",
     "name": "stdout",
     "text": [
      "                           Logit Regression Results                           \n==============================================================================\nDep. Variable:              converted   No. Observations:               290585\nModel:                          Logit   Df Residuals:                   290583\nMethod:                           MLE   Df Model:                            1\nDate:                Mon, 02 Nov 2020   Pseudo R-squ.:               8.085e-06\nTime:                        01:54:32   Log-Likelihood:            -1.0639e+05\nconverged:                       True   LL-Null:                   -1.0639e+05\nCovariance Type:            nonrobust   LLR p-value:                    0.1897\n==============================================================================\n                 coef    std err          z      P>|z|      [0.025      0.975]\n------------------------------------------------------------------------------\nintercept     -1.9888      0.008   -246.669      0.000      -2.005      -1.973\nab_page       -0.0150      0.011     -1.312      0.190      -0.037       0.007\n==============================================================================\n"
     ]
    }
   ],
   "source": [
    "print(result.summary())"
   ]
  },
  {
   "cell_type": "markdown",
   "metadata": {},
   "source": [
    "**p-value (ab_page) = 0.19** \n",
    "\n",
    "The value differs from above because a high p-value for ab_page in the regression model means that there is no correlation between the landing page type and the conversion rate. This implies that p_new is equal to p_old, which is the null hypothesis of a two tailed test:\n",
    "\n",
    "**H0: p_new = p_old**\n",
    "\n",
    "\n",
    "**H1: p_new != p_old**"
   ]
  },
  {
   "cell_type": "markdown",
   "metadata": {},
   "source": [
    "``Time (timestamp\tvariable) might put an influence. Time period can be found when the usage is high.``\n",
    "\n",
    "``Disadavantage od adding more variables is that the addition will make the model more complex, also addition of variable in the model will conclude to covariance. ``"
   ]
  },
  {
   "cell_type": "markdown",
   "metadata": {},
   "source": [
    "g. Now along with testing if the conversion rate changes for different pages, also we need to add an effect based on which country a user lives in. \n",
    "\n",
    "We create dummy variables for the country columns. We provide the statistical output as well as a written response."
   ]
  },
  {
   "cell_type": "code",
   "execution_count": 39,
   "metadata": {},
   "outputs": [
    {
     "output_type": "execute_result",
     "data": {
      "text/plain": [
       "    user_id                   timestamp      group landing_page  converted  \\\n",
       "0    851104  2017-01-21 22:11:48.556739    control     old_page          0   \n",
       "1    804228  2017-01-12 08:01:45.159739    control     old_page          0   \n",
       "2    661590  2017-01-11 16:55:06.154213  treatment     new_page          0   \n",
       "3    853541  2017-01-08 18:28:03.143765  treatment     new_page          0   \n",
       "4    864975  2017-01-21 01:52:26.210827    control     old_page          1   \n",
       "5    936923  2017-01-10 15:20:49.083499    control     old_page          0   \n",
       "6    679687  2017-01-19 03:26:46.940749  treatment     new_page          1   \n",
       "7    719014  2017-01-17 01:48:29.539573    control     old_page          0   \n",
       "8    817355  2017-01-04 17:58:08.979471  treatment     new_page          1   \n",
       "9    839785  2017-01-15 18:11:06.610965  treatment     new_page          1   \n",
       "10   929503  2017-01-18 05:37:11.527370  treatment     new_page          0   \n",
       "11   834487  2017-01-21 22:37:47.774891  treatment     new_page          0   \n",
       "12   803683  2017-01-09 06:05:16.222706  treatment     new_page          0   \n",
       "13   944475  2017-01-22 01:31:09.573836  treatment     new_page          0   \n",
       "14   718956  2017-01-22 11:45:11.327945  treatment     new_page          0   \n",
       "15   644214  2017-01-22 02:05:21.719434    control     old_page          1   \n",
       "16   847721  2017-01-17 14:01:00.090575    control     old_page          0   \n",
       "17   888545  2017-01-08 06:37:26.332945  treatment     new_page          1   \n",
       "18   650559  2017-01-24 11:55:51.084801    control     old_page          0   \n",
       "19   935734  2017-01-17 20:33:37.428378    control     old_page          0   \n",
       "20   740805  2017-01-12 18:59:45.453277  treatment     new_page          0   \n",
       "21   759875  2017-01-09 16:11:58.806110  treatment     new_page          0   \n",
       "22   793849  2017-01-23 22:36:10.742811  treatment     new_page          0   \n",
       "23   905617  2017-01-20 14:12:19.345499  treatment     new_page          0   \n",
       "24   746742  2017-01-23 11:38:29.592148    control     old_page          0   \n",
       "25   892356  2017-01-05 09:35:14.904865  treatment     new_page          1   \n",
       "26   773302  2017-01-12 08:29:49.810594  treatment     new_page          0   \n",
       "27   913579  2017-01-24 09:11:39.164256    control     old_page          1   \n",
       "28   736159  2017-01-06 01:50:21.318242  treatment     new_page          0   \n",
       "29   690284  2017-01-13 17:22:57.182769    control     old_page          0   \n",
       "30   826115  2017-01-05 11:27:16.756633  treatment     new_page          0   \n",
       "31   875124  2017-01-05 15:39:25.439906  treatment     new_page          1   \n",
       "32   931013  2017-01-07 03:23:57.932344  treatment     new_page          0   \n",
       "33   710349  2017-01-11 22:24:44.226492    control     old_page          0   \n",
       "34   677533  2017-01-23 17:48:50.491821    control     old_page          0   \n",
       "35   831737  2017-01-11 21:18:20.911015    control     old_page          1   \n",
       "36   648583  2017-01-19 09:03:05.545308  treatment     new_page          0   \n",
       "37   728086  2017-01-03 17:07:00.837852  treatment     new_page          0   \n",
       "38   870163  2017-01-02 21:33:49.325594  treatment     new_page          0   \n",
       "39   771087  2017-01-16 00:05:29.983919    control     old_page          0   \n",
       "40   739414  2017-01-03 13:25:55.139705  treatment     new_page          0   \n",
       "41   896163  2017-01-22 09:10:20.753218    control     old_page          0   \n",
       "42   862225  2017-01-08 14:49:37.335432    control     old_page          1   \n",
       "43   939593  2017-01-05 09:15:31.984283    control     old_page          0   \n",
       "44   702260  2017-01-18 13:55:31.488221    control     old_page          0   \n",
       "45   943635  2017-01-22 13:37:39.722775  treatment     new_page          0   \n",
       "46   800436  2017-01-20 07:47:47.224386  treatment     new_page          0   \n",
       "47   698590  2017-01-23 11:51:59.925413  treatment     new_page          0   \n",
       "48   830513  2017-01-12 00:50:01.470557  treatment     new_page          0   \n",
       "49   670941  2017-01-05 08:16:41.306478    control     old_page          0   \n",
       "\n",
       "    intercept  new_page  old_page  ab_page country  \n",
       "0           1         0         1        0      US  \n",
       "1           1         0         1        0      US  \n",
       "2           1         1         0        1      US  \n",
       "3           1         1         0        1      US  \n",
       "4           1         0         1        0      US  \n",
       "5           1         0         1        0      US  \n",
       "6           1         1         0        1      CA  \n",
       "7           1         0         1        0      US  \n",
       "8           1         1         0        1      UK  \n",
       "9           1         1         0        1      CA  \n",
       "10          1         1         0        1      UK  \n",
       "11          1         1         0        1      US  \n",
       "12          1         1         0        1      US  \n",
       "13          1         1         0        1      US  \n",
       "14          1         1         0        1      US  \n",
       "15          1         0         1        0      US  \n",
       "16          1         0         1        0      US  \n",
       "17          1         1         0        1      US  \n",
       "18          1         0         1        0      CA  \n",
       "19          1         0         1        0      US  \n",
       "20          1         1         0        1      US  \n",
       "21          1         1         0        1      UK  \n",
       "22          1         1         0        1      US  \n",
       "23          1         1         0        1      UK  \n",
       "24          1         0         1        0      US  \n",
       "25          1         1         0        1      UK  \n",
       "26          1         1         0        1      US  \n",
       "27          1         0         1        0      US  \n",
       "28          1         1         0        1      US  \n",
       "29          1         0         1        0      US  \n",
       "30          1         1         0        1      US  \n",
       "31          1         1         0        1      US  \n",
       "32          1         1         0        1      UK  \n",
       "33          1         0         1        0      UK  \n",
       "34          1         0         1        0      US  \n",
       "35          1         0         1        0      UK  \n",
       "36          1         1         0        1      US  \n",
       "37          1         1         0        1      UK  \n",
       "38          1         1         0        1      UK  \n",
       "39          1         0         1        0      US  \n",
       "40          1         1         0        1      US  \n",
       "41          1         0         1        0      UK  \n",
       "42          1         0         1        0      US  \n",
       "43          1         0         1        0      US  \n",
       "44          1         0         1        0      US  \n",
       "45          1         1         0        1      US  \n",
       "46          1         1         0        1      US  \n",
       "47          1         1         0        1      UK  \n",
       "48          1         1         0        1      UK  \n",
       "49          1         0         1        0      US  "
      ],
      "text/html": "<div>\n<style scoped>\n    .dataframe tbody tr th:only-of-type {\n        vertical-align: middle;\n    }\n\n    .dataframe tbody tr th {\n        vertical-align: top;\n    }\n\n    .dataframe thead th {\n        text-align: right;\n    }\n</style>\n<table border=\"1\" class=\"dataframe\">\n  <thead>\n    <tr style=\"text-align: right;\">\n      <th></th>\n      <th>user_id</th>\n      <th>timestamp</th>\n      <th>group</th>\n      <th>landing_page</th>\n      <th>converted</th>\n      <th>intercept</th>\n      <th>new_page</th>\n      <th>old_page</th>\n      <th>ab_page</th>\n      <th>country</th>\n    </tr>\n  </thead>\n  <tbody>\n    <tr>\n      <th>0</th>\n      <td>851104</td>\n      <td>2017-01-21 22:11:48.556739</td>\n      <td>control</td>\n      <td>old_page</td>\n      <td>0</td>\n      <td>1</td>\n      <td>0</td>\n      <td>1</td>\n      <td>0</td>\n      <td>US</td>\n    </tr>\n    <tr>\n      <th>1</th>\n      <td>804228</td>\n      <td>2017-01-12 08:01:45.159739</td>\n      <td>control</td>\n      <td>old_page</td>\n      <td>0</td>\n      <td>1</td>\n      <td>0</td>\n      <td>1</td>\n      <td>0</td>\n      <td>US</td>\n    </tr>\n    <tr>\n      <th>2</th>\n      <td>661590</td>\n      <td>2017-01-11 16:55:06.154213</td>\n      <td>treatment</td>\n      <td>new_page</td>\n      <td>0</td>\n      <td>1</td>\n      <td>1</td>\n      <td>0</td>\n      <td>1</td>\n      <td>US</td>\n    </tr>\n    <tr>\n      <th>3</th>\n      <td>853541</td>\n      <td>2017-01-08 18:28:03.143765</td>\n      <td>treatment</td>\n      <td>new_page</td>\n      <td>0</td>\n      <td>1</td>\n      <td>1</td>\n      <td>0</td>\n      <td>1</td>\n      <td>US</td>\n    </tr>\n    <tr>\n      <th>4</th>\n      <td>864975</td>\n      <td>2017-01-21 01:52:26.210827</td>\n      <td>control</td>\n      <td>old_page</td>\n      <td>1</td>\n      <td>1</td>\n      <td>0</td>\n      <td>1</td>\n      <td>0</td>\n      <td>US</td>\n    </tr>\n    <tr>\n      <th>5</th>\n      <td>936923</td>\n      <td>2017-01-10 15:20:49.083499</td>\n      <td>control</td>\n      <td>old_page</td>\n      <td>0</td>\n      <td>1</td>\n      <td>0</td>\n      <td>1</td>\n      <td>0</td>\n      <td>US</td>\n    </tr>\n    <tr>\n      <th>6</th>\n      <td>679687</td>\n      <td>2017-01-19 03:26:46.940749</td>\n      <td>treatment</td>\n      <td>new_page</td>\n      <td>1</td>\n      <td>1</td>\n      <td>1</td>\n      <td>0</td>\n      <td>1</td>\n      <td>CA</td>\n    </tr>\n    <tr>\n      <th>7</th>\n      <td>719014</td>\n      <td>2017-01-17 01:48:29.539573</td>\n      <td>control</td>\n      <td>old_page</td>\n      <td>0</td>\n      <td>1</td>\n      <td>0</td>\n      <td>1</td>\n      <td>0</td>\n      <td>US</td>\n    </tr>\n    <tr>\n      <th>8</th>\n      <td>817355</td>\n      <td>2017-01-04 17:58:08.979471</td>\n      <td>treatment</td>\n      <td>new_page</td>\n      <td>1</td>\n      <td>1</td>\n      <td>1</td>\n      <td>0</td>\n      <td>1</td>\n      <td>UK</td>\n    </tr>\n    <tr>\n      <th>9</th>\n      <td>839785</td>\n      <td>2017-01-15 18:11:06.610965</td>\n      <td>treatment</td>\n      <td>new_page</td>\n      <td>1</td>\n      <td>1</td>\n      <td>1</td>\n      <td>0</td>\n      <td>1</td>\n      <td>CA</td>\n    </tr>\n    <tr>\n      <th>10</th>\n      <td>929503</td>\n      <td>2017-01-18 05:37:11.527370</td>\n      <td>treatment</td>\n      <td>new_page</td>\n      <td>0</td>\n      <td>1</td>\n      <td>1</td>\n      <td>0</td>\n      <td>1</td>\n      <td>UK</td>\n    </tr>\n    <tr>\n      <th>11</th>\n      <td>834487</td>\n      <td>2017-01-21 22:37:47.774891</td>\n      <td>treatment</td>\n      <td>new_page</td>\n      <td>0</td>\n      <td>1</td>\n      <td>1</td>\n      <td>0</td>\n      <td>1</td>\n      <td>US</td>\n    </tr>\n    <tr>\n      <th>12</th>\n      <td>803683</td>\n      <td>2017-01-09 06:05:16.222706</td>\n      <td>treatment</td>\n      <td>new_page</td>\n      <td>0</td>\n      <td>1</td>\n      <td>1</td>\n      <td>0</td>\n      <td>1</td>\n      <td>US</td>\n    </tr>\n    <tr>\n      <th>13</th>\n      <td>944475</td>\n      <td>2017-01-22 01:31:09.573836</td>\n      <td>treatment</td>\n      <td>new_page</td>\n      <td>0</td>\n      <td>1</td>\n      <td>1</td>\n      <td>0</td>\n      <td>1</td>\n      <td>US</td>\n    </tr>\n    <tr>\n      <th>14</th>\n      <td>718956</td>\n      <td>2017-01-22 11:45:11.327945</td>\n      <td>treatment</td>\n      <td>new_page</td>\n      <td>0</td>\n      <td>1</td>\n      <td>1</td>\n      <td>0</td>\n      <td>1</td>\n      <td>US</td>\n    </tr>\n    <tr>\n      <th>15</th>\n      <td>644214</td>\n      <td>2017-01-22 02:05:21.719434</td>\n      <td>control</td>\n      <td>old_page</td>\n      <td>1</td>\n      <td>1</td>\n      <td>0</td>\n      <td>1</td>\n      <td>0</td>\n      <td>US</td>\n    </tr>\n    <tr>\n      <th>16</th>\n      <td>847721</td>\n      <td>2017-01-17 14:01:00.090575</td>\n      <td>control</td>\n      <td>old_page</td>\n      <td>0</td>\n      <td>1</td>\n      <td>0</td>\n      <td>1</td>\n      <td>0</td>\n      <td>US</td>\n    </tr>\n    <tr>\n      <th>17</th>\n      <td>888545</td>\n      <td>2017-01-08 06:37:26.332945</td>\n      <td>treatment</td>\n      <td>new_page</td>\n      <td>1</td>\n      <td>1</td>\n      <td>1</td>\n      <td>0</td>\n      <td>1</td>\n      <td>US</td>\n    </tr>\n    <tr>\n      <th>18</th>\n      <td>650559</td>\n      <td>2017-01-24 11:55:51.084801</td>\n      <td>control</td>\n      <td>old_page</td>\n      <td>0</td>\n      <td>1</td>\n      <td>0</td>\n      <td>1</td>\n      <td>0</td>\n      <td>CA</td>\n    </tr>\n    <tr>\n      <th>19</th>\n      <td>935734</td>\n      <td>2017-01-17 20:33:37.428378</td>\n      <td>control</td>\n      <td>old_page</td>\n      <td>0</td>\n      <td>1</td>\n      <td>0</td>\n      <td>1</td>\n      <td>0</td>\n      <td>US</td>\n    </tr>\n    <tr>\n      <th>20</th>\n      <td>740805</td>\n      <td>2017-01-12 18:59:45.453277</td>\n      <td>treatment</td>\n      <td>new_page</td>\n      <td>0</td>\n      <td>1</td>\n      <td>1</td>\n      <td>0</td>\n      <td>1</td>\n      <td>US</td>\n    </tr>\n    <tr>\n      <th>21</th>\n      <td>759875</td>\n      <td>2017-01-09 16:11:58.806110</td>\n      <td>treatment</td>\n      <td>new_page</td>\n      <td>0</td>\n      <td>1</td>\n      <td>1</td>\n      <td>0</td>\n      <td>1</td>\n      <td>UK</td>\n    </tr>\n    <tr>\n      <th>22</th>\n      <td>793849</td>\n      <td>2017-01-23 22:36:10.742811</td>\n      <td>treatment</td>\n      <td>new_page</td>\n      <td>0</td>\n      <td>1</td>\n      <td>1</td>\n      <td>0</td>\n      <td>1</td>\n      <td>US</td>\n    </tr>\n    <tr>\n      <th>23</th>\n      <td>905617</td>\n      <td>2017-01-20 14:12:19.345499</td>\n      <td>treatment</td>\n      <td>new_page</td>\n      <td>0</td>\n      <td>1</td>\n      <td>1</td>\n      <td>0</td>\n      <td>1</td>\n      <td>UK</td>\n    </tr>\n    <tr>\n      <th>24</th>\n      <td>746742</td>\n      <td>2017-01-23 11:38:29.592148</td>\n      <td>control</td>\n      <td>old_page</td>\n      <td>0</td>\n      <td>1</td>\n      <td>0</td>\n      <td>1</td>\n      <td>0</td>\n      <td>US</td>\n    </tr>\n    <tr>\n      <th>25</th>\n      <td>892356</td>\n      <td>2017-01-05 09:35:14.904865</td>\n      <td>treatment</td>\n      <td>new_page</td>\n      <td>1</td>\n      <td>1</td>\n      <td>1</td>\n      <td>0</td>\n      <td>1</td>\n      <td>UK</td>\n    </tr>\n    <tr>\n      <th>26</th>\n      <td>773302</td>\n      <td>2017-01-12 08:29:49.810594</td>\n      <td>treatment</td>\n      <td>new_page</td>\n      <td>0</td>\n      <td>1</td>\n      <td>1</td>\n      <td>0</td>\n      <td>1</td>\n      <td>US</td>\n    </tr>\n    <tr>\n      <th>27</th>\n      <td>913579</td>\n      <td>2017-01-24 09:11:39.164256</td>\n      <td>control</td>\n      <td>old_page</td>\n      <td>1</td>\n      <td>1</td>\n      <td>0</td>\n      <td>1</td>\n      <td>0</td>\n      <td>US</td>\n    </tr>\n    <tr>\n      <th>28</th>\n      <td>736159</td>\n      <td>2017-01-06 01:50:21.318242</td>\n      <td>treatment</td>\n      <td>new_page</td>\n      <td>0</td>\n      <td>1</td>\n      <td>1</td>\n      <td>0</td>\n      <td>1</td>\n      <td>US</td>\n    </tr>\n    <tr>\n      <th>29</th>\n      <td>690284</td>\n      <td>2017-01-13 17:22:57.182769</td>\n      <td>control</td>\n      <td>old_page</td>\n      <td>0</td>\n      <td>1</td>\n      <td>0</td>\n      <td>1</td>\n      <td>0</td>\n      <td>US</td>\n    </tr>\n    <tr>\n      <th>30</th>\n      <td>826115</td>\n      <td>2017-01-05 11:27:16.756633</td>\n      <td>treatment</td>\n      <td>new_page</td>\n      <td>0</td>\n      <td>1</td>\n      <td>1</td>\n      <td>0</td>\n      <td>1</td>\n      <td>US</td>\n    </tr>\n    <tr>\n      <th>31</th>\n      <td>875124</td>\n      <td>2017-01-05 15:39:25.439906</td>\n      <td>treatment</td>\n      <td>new_page</td>\n      <td>1</td>\n      <td>1</td>\n      <td>1</td>\n      <td>0</td>\n      <td>1</td>\n      <td>US</td>\n    </tr>\n    <tr>\n      <th>32</th>\n      <td>931013</td>\n      <td>2017-01-07 03:23:57.932344</td>\n      <td>treatment</td>\n      <td>new_page</td>\n      <td>0</td>\n      <td>1</td>\n      <td>1</td>\n      <td>0</td>\n      <td>1</td>\n      <td>UK</td>\n    </tr>\n    <tr>\n      <th>33</th>\n      <td>710349</td>\n      <td>2017-01-11 22:24:44.226492</td>\n      <td>control</td>\n      <td>old_page</td>\n      <td>0</td>\n      <td>1</td>\n      <td>0</td>\n      <td>1</td>\n      <td>0</td>\n      <td>UK</td>\n    </tr>\n    <tr>\n      <th>34</th>\n      <td>677533</td>\n      <td>2017-01-23 17:48:50.491821</td>\n      <td>control</td>\n      <td>old_page</td>\n      <td>0</td>\n      <td>1</td>\n      <td>0</td>\n      <td>1</td>\n      <td>0</td>\n      <td>US</td>\n    </tr>\n    <tr>\n      <th>35</th>\n      <td>831737</td>\n      <td>2017-01-11 21:18:20.911015</td>\n      <td>control</td>\n      <td>old_page</td>\n      <td>1</td>\n      <td>1</td>\n      <td>0</td>\n      <td>1</td>\n      <td>0</td>\n      <td>UK</td>\n    </tr>\n    <tr>\n      <th>36</th>\n      <td>648583</td>\n      <td>2017-01-19 09:03:05.545308</td>\n      <td>treatment</td>\n      <td>new_page</td>\n      <td>0</td>\n      <td>1</td>\n      <td>1</td>\n      <td>0</td>\n      <td>1</td>\n      <td>US</td>\n    </tr>\n    <tr>\n      <th>37</th>\n      <td>728086</td>\n      <td>2017-01-03 17:07:00.837852</td>\n      <td>treatment</td>\n      <td>new_page</td>\n      <td>0</td>\n      <td>1</td>\n      <td>1</td>\n      <td>0</td>\n      <td>1</td>\n      <td>UK</td>\n    </tr>\n    <tr>\n      <th>38</th>\n      <td>870163</td>\n      <td>2017-01-02 21:33:49.325594</td>\n      <td>treatment</td>\n      <td>new_page</td>\n      <td>0</td>\n      <td>1</td>\n      <td>1</td>\n      <td>0</td>\n      <td>1</td>\n      <td>UK</td>\n    </tr>\n    <tr>\n      <th>39</th>\n      <td>771087</td>\n      <td>2017-01-16 00:05:29.983919</td>\n      <td>control</td>\n      <td>old_page</td>\n      <td>0</td>\n      <td>1</td>\n      <td>0</td>\n      <td>1</td>\n      <td>0</td>\n      <td>US</td>\n    </tr>\n    <tr>\n      <th>40</th>\n      <td>739414</td>\n      <td>2017-01-03 13:25:55.139705</td>\n      <td>treatment</td>\n      <td>new_page</td>\n      <td>0</td>\n      <td>1</td>\n      <td>1</td>\n      <td>0</td>\n      <td>1</td>\n      <td>US</td>\n    </tr>\n    <tr>\n      <th>41</th>\n      <td>896163</td>\n      <td>2017-01-22 09:10:20.753218</td>\n      <td>control</td>\n      <td>old_page</td>\n      <td>0</td>\n      <td>1</td>\n      <td>0</td>\n      <td>1</td>\n      <td>0</td>\n      <td>UK</td>\n    </tr>\n    <tr>\n      <th>42</th>\n      <td>862225</td>\n      <td>2017-01-08 14:49:37.335432</td>\n      <td>control</td>\n      <td>old_page</td>\n      <td>1</td>\n      <td>1</td>\n      <td>0</td>\n      <td>1</td>\n      <td>0</td>\n      <td>US</td>\n    </tr>\n    <tr>\n      <th>43</th>\n      <td>939593</td>\n      <td>2017-01-05 09:15:31.984283</td>\n      <td>control</td>\n      <td>old_page</td>\n      <td>0</td>\n      <td>1</td>\n      <td>0</td>\n      <td>1</td>\n      <td>0</td>\n      <td>US</td>\n    </tr>\n    <tr>\n      <th>44</th>\n      <td>702260</td>\n      <td>2017-01-18 13:55:31.488221</td>\n      <td>control</td>\n      <td>old_page</td>\n      <td>0</td>\n      <td>1</td>\n      <td>0</td>\n      <td>1</td>\n      <td>0</td>\n      <td>US</td>\n    </tr>\n    <tr>\n      <th>45</th>\n      <td>943635</td>\n      <td>2017-01-22 13:37:39.722775</td>\n      <td>treatment</td>\n      <td>new_page</td>\n      <td>0</td>\n      <td>1</td>\n      <td>1</td>\n      <td>0</td>\n      <td>1</td>\n      <td>US</td>\n    </tr>\n    <tr>\n      <th>46</th>\n      <td>800436</td>\n      <td>2017-01-20 07:47:47.224386</td>\n      <td>treatment</td>\n      <td>new_page</td>\n      <td>0</td>\n      <td>1</td>\n      <td>1</td>\n      <td>0</td>\n      <td>1</td>\n      <td>US</td>\n    </tr>\n    <tr>\n      <th>47</th>\n      <td>698590</td>\n      <td>2017-01-23 11:51:59.925413</td>\n      <td>treatment</td>\n      <td>new_page</td>\n      <td>0</td>\n      <td>1</td>\n      <td>1</td>\n      <td>0</td>\n      <td>1</td>\n      <td>UK</td>\n    </tr>\n    <tr>\n      <th>48</th>\n      <td>830513</td>\n      <td>2017-01-12 00:50:01.470557</td>\n      <td>treatment</td>\n      <td>new_page</td>\n      <td>0</td>\n      <td>1</td>\n      <td>1</td>\n      <td>0</td>\n      <td>1</td>\n      <td>UK</td>\n    </tr>\n    <tr>\n      <th>49</th>\n      <td>670941</td>\n      <td>2017-01-05 08:16:41.306478</td>\n      <td>control</td>\n      <td>old_page</td>\n      <td>0</td>\n      <td>1</td>\n      <td>0</td>\n      <td>1</td>\n      <td>0</td>\n      <td>US</td>\n    </tr>\n  </tbody>\n</table>\n</div>"
     },
     "metadata": {},
     "execution_count": 39
    }
   ],
   "source": [
    "countries = pd.read_csv('countries.csv')\n",
    "df3 = df2.merge(countries, on ='user_id', how='left')\n",
    "\n",
    "df3.head(50)"
   ]
  },
  {
   "cell_type": "code",
   "execution_count": 40,
   "metadata": {},
   "outputs": [
    {
     "output_type": "execute_result",
     "data": {
      "text/plain": [
       "array(['UK', 'US', 'CA'], dtype=object)"
      ]
     },
     "metadata": {},
     "execution_count": 40
    }
   ],
   "source": [
    "countries['country'].unique()"
   ]
  },
  {
   "cell_type": "code",
   "execution_count": 41,
   "metadata": {},
   "outputs": [],
   "source": [
    "df3[['CA','UK','US']] = pd.get_dummies(df3['country'])\n",
    "df3 = df3.drop(df3['UK'])"
   ]
  },
  {
   "cell_type": "code",
   "execution_count": 42,
   "metadata": {},
   "outputs": [],
   "source": [
    "df3['intercept'] = 1"
   ]
  },
  {
   "cell_type": "code",
   "execution_count": 43,
   "metadata": {},
   "outputs": [
    {
     "output_type": "stream",
     "name": "stdout",
     "text": [
      "Optimization terminated successfully.\n         Current function value: 0.366114\n         Iterations 6\n"
     ]
    },
    {
     "output_type": "execute_result",
     "data": {
      "text/plain": [
       "<class 'statsmodels.iolib.summary.Summary'>\n",
       "\"\"\"\n",
       "                           Logit Regression Results                           \n",
       "==============================================================================\n",
       "Dep. Variable:              converted   No. Observations:               290583\n",
       "Model:                          Logit   Df Residuals:                   290579\n",
       "Method:                           MLE   Df Model:                            3\n",
       "Date:                Mon, 02 Nov 2020   Pseudo R-squ.:               2.326e-05\n",
       "Time:                        01:54:33   Log-Likelihood:            -1.0639e+05\n",
       "converged:                       True   LL-Null:                   -1.0639e+05\n",
       "Covariance Type:            nonrobust   LLR p-value:                    0.1756\n",
       "==============================================================================\n",
       "                 coef    std err          z      P>|z|      [0.025      0.975]\n",
       "------------------------------------------------------------------------------\n",
       "intercept     -1.9794      0.013   -155.414      0.000      -2.004      -1.954\n",
       "ab_page       -0.0150      0.011     -1.309      0.191      -0.037       0.007\n",
       "US            -0.0099      0.013     -0.743      0.458      -0.036       0.016\n",
       "CA            -0.0506      0.028     -1.784      0.075      -0.106       0.005\n",
       "==============================================================================\n",
       "\"\"\""
      ],
      "text/html": "<table class=\"simpletable\">\n<caption>Logit Regression Results</caption>\n<tr>\n  <th>Dep. Variable:</th>       <td>converted</td>    <th>  No. Observations:  </th>   <td>290583</td>   \n</tr>\n<tr>\n  <th>Model:</th>                 <td>Logit</td>      <th>  Df Residuals:      </th>   <td>290579</td>   \n</tr>\n<tr>\n  <th>Method:</th>                 <td>MLE</td>       <th>  Df Model:          </th>   <td>     3</td>   \n</tr>\n<tr>\n  <th>Date:</th>            <td>Mon, 02 Nov 2020</td> <th>  Pseudo R-squ.:     </th>  <td>2.326e-05</td> \n</tr>\n<tr>\n  <th>Time:</th>                <td>01:54:33</td>     <th>  Log-Likelihood:    </th> <td>-1.0639e+05</td>\n</tr>\n<tr>\n  <th>converged:</th>             <td>True</td>       <th>  LL-Null:           </th> <td>-1.0639e+05</td>\n</tr>\n<tr>\n  <th>Covariance Type:</th>     <td>nonrobust</td>    <th>  LLR p-value:       </th>   <td>0.1756</td>   \n</tr>\n</table>\n<table class=\"simpletable\">\n<tr>\n      <td></td>         <th>coef</th>     <th>std err</th>      <th>z</th>      <th>P>|z|</th>  <th>[0.025</th>    <th>0.975]</th>  \n</tr>\n<tr>\n  <th>intercept</th> <td>   -1.9794</td> <td>    0.013</td> <td> -155.414</td> <td> 0.000</td> <td>   -2.004</td> <td>   -1.954</td>\n</tr>\n<tr>\n  <th>ab_page</th>   <td>   -0.0150</td> <td>    0.011</td> <td>   -1.309</td> <td> 0.191</td> <td>   -0.037</td> <td>    0.007</td>\n</tr>\n<tr>\n  <th>US</th>        <td>   -0.0099</td> <td>    0.013</td> <td>   -0.743</td> <td> 0.458</td> <td>   -0.036</td> <td>    0.016</td>\n</tr>\n<tr>\n  <th>CA</th>        <td>   -0.0506</td> <td>    0.028</td> <td>   -1.784</td> <td> 0.075</td> <td>   -0.106</td> <td>    0.005</td>\n</tr>\n</table>"
     },
     "metadata": {},
     "execution_count": 43
    }
   ],
   "source": [
    "#Country and converted , UK and new page as baseline\n",
    "log_regn = sm.Logit(df3['converted'], df3[['intercept','ab_page','US','CA']])\n",
    "result = log_regn.fit()\n",
    "result.summary()\n"
   ]
  },
  {
   "cell_type": "code",
   "execution_count": 44,
   "metadata": {},
   "outputs": [
    {
     "output_type": "execute_result",
     "data": {
      "text/plain": [
       "(0.9851119396030626, 1.0099491671175422, 0.9506588580330708)"
      ]
     },
     "metadata": {},
     "execution_count": 44
    }
   ],
   "source": [
    "np.exp(-0.0150),np.exp(0.0099),np.exp(-0.0506)"
   ]
  },
  {
   "cell_type": "code",
   "execution_count": 45,
   "metadata": {},
   "outputs": [
    {
     "output_type": "execute_result",
     "data": {
      "text/plain": [
       "(1.015113064615719, 1.0099491671175422, 0.9506588580330708)"
      ]
     },
     "metadata": {},
     "execution_count": 45
    }
   ],
   "source": [
    "1/np.exp(-0.0150),np.exp(0.0099),np.exp(-0.0506)"
   ]
  },
  {
   "cell_type": "markdown",
   "metadata": {},
   "source": [
    "**Result:**\n",
    " \n",
    "``For every unit of ab_page decrease, conversion will be 1.5% more likely to happen.``\n",
    " \n",
    "``US : each unit increase, convert is 0.9% to happen.``\n",
    "\n",
    "``CA : each unit increase, convert is 5.1% most likely to happen.``\n"
   ]
  },
  {
   "cell_type": "markdown",
   "metadata": {},
   "source": [
    "h. Though we have now looked at the individual factors of country and page on conversion, we would now like to look at an interaction between page and country to see if there significant effects on conversion.  We create the necessary additional columns, and fit the new model.  \n",
    "\n",
    "Providing the summary results, and conclusions based on the results."
   ]
  },
  {
   "cell_type": "code",
   "execution_count": 46,
   "metadata": {},
   "outputs": [],
   "source": [
    "df3['US_ab_page'] = df3['ab_page']* df3['US']\n",
    "df3['CA_ab_page'] = df3['ab_page']* df3['CA']"
   ]
  },
  {
   "cell_type": "code",
   "execution_count": 47,
   "metadata": {},
   "outputs": [
    {
     "output_type": "stream",
     "name": "stdout",
     "text": [
      "Optimization terminated successfully.\n         Current function value: 0.366110\n         Iterations 6\n"
     ]
    },
    {
     "output_type": "execute_result",
     "data": {
      "text/plain": [
       "<class 'statsmodels.iolib.summary.Summary'>\n",
       "\"\"\"\n",
       "                           Logit Regression Results                           \n",
       "==============================================================================\n",
       "Dep. Variable:              converted   No. Observations:               290583\n",
       "Model:                          Logit   Df Residuals:                   290577\n",
       "Method:                           MLE   Df Model:                            5\n",
       "Date:                Mon, 02 Nov 2020   Pseudo R-squ.:               3.485e-05\n",
       "Time:                        01:54:36   Log-Likelihood:            -1.0639e+05\n",
       "converged:                       True   LL-Null:                   -1.0639e+05\n",
       "Covariance Type:            nonrobust   LLR p-value:                    0.1915\n",
       "==============================================================================\n",
       "                 coef    std err          z      P>|z|      [0.025      0.975]\n",
       "------------------------------------------------------------------------------\n",
       "intercept     -1.9922      0.016   -123.457      0.000      -2.024      -1.961\n",
       "ab_page        0.0108      0.023      0.475      0.635      -0.034       0.056\n",
       "US_ab_page    -0.0314      0.027     -1.182      0.237      -0.084       0.021\n",
       "CA_ab_page    -0.0783      0.057     -1.378      0.168      -0.190       0.033\n",
       "US             0.0058      0.019      0.307      0.759      -0.031       0.043\n",
       "CA            -0.0118      0.040     -0.296      0.767      -0.090       0.066\n",
       "==============================================================================\n",
       "\"\"\""
      ],
      "text/html": "<table class=\"simpletable\">\n<caption>Logit Regression Results</caption>\n<tr>\n  <th>Dep. Variable:</th>       <td>converted</td>    <th>  No. Observations:  </th>   <td>290583</td>   \n</tr>\n<tr>\n  <th>Model:</th>                 <td>Logit</td>      <th>  Df Residuals:      </th>   <td>290577</td>   \n</tr>\n<tr>\n  <th>Method:</th>                 <td>MLE</td>       <th>  Df Model:          </th>   <td>     5</td>   \n</tr>\n<tr>\n  <th>Date:</th>            <td>Mon, 02 Nov 2020</td> <th>  Pseudo R-squ.:     </th>  <td>3.485e-05</td> \n</tr>\n<tr>\n  <th>Time:</th>                <td>01:54:36</td>     <th>  Log-Likelihood:    </th> <td>-1.0639e+05</td>\n</tr>\n<tr>\n  <th>converged:</th>             <td>True</td>       <th>  LL-Null:           </th> <td>-1.0639e+05</td>\n</tr>\n<tr>\n  <th>Covariance Type:</th>     <td>nonrobust</td>    <th>  LLR p-value:       </th>   <td>0.1915</td>   \n</tr>\n</table>\n<table class=\"simpletable\">\n<tr>\n       <td></td>         <th>coef</th>     <th>std err</th>      <th>z</th>      <th>P>|z|</th>  <th>[0.025</th>    <th>0.975]</th>  \n</tr>\n<tr>\n  <th>intercept</th>  <td>   -1.9922</td> <td>    0.016</td> <td> -123.457</td> <td> 0.000</td> <td>   -2.024</td> <td>   -1.961</td>\n</tr>\n<tr>\n  <th>ab_page</th>    <td>    0.0108</td> <td>    0.023</td> <td>    0.475</td> <td> 0.635</td> <td>   -0.034</td> <td>    0.056</td>\n</tr>\n<tr>\n  <th>US_ab_page</th> <td>   -0.0314</td> <td>    0.027</td> <td>   -1.182</td> <td> 0.237</td> <td>   -0.084</td> <td>    0.021</td>\n</tr>\n<tr>\n  <th>CA_ab_page</th> <td>   -0.0783</td> <td>    0.057</td> <td>   -1.378</td> <td> 0.168</td> <td>   -0.190</td> <td>    0.033</td>\n</tr>\n<tr>\n  <th>US</th>         <td>    0.0058</td> <td>    0.019</td> <td>    0.307</td> <td> 0.759</td> <td>   -0.031</td> <td>    0.043</td>\n</tr>\n<tr>\n  <th>CA</th>         <td>   -0.0118</td> <td>    0.040</td> <td>   -0.296</td> <td> 0.767</td> <td>   -0.090</td> <td>    0.066</td>\n</tr>\n</table>"
     },
     "metadata": {},
     "execution_count": 47
    }
   ],
   "source": [
    "log_reg_1 = sm.Logit(df3['converted'], df3[['intercept','ab_page','US_ab_page','CA_ab_page','US','CA']])\n",
    "result_1 = log_reg_1.fit()\n",
    "result_1.summary()"
   ]
  },
  {
   "cell_type": "code",
   "execution_count": 48,
   "metadata": {},
   "outputs": [
    {
     "output_type": "execute_result",
     "data": {
      "text/plain": [
       "intercept     7.331806\n",
       "ab_page       0.989224\n",
       "US_ab_page    1.031930\n",
       "CA_ab_page    1.081428\n",
       "US            0.994250\n",
       "CA            1.011854\n",
       "dtype: float64"
      ]
     },
     "metadata": {},
     "execution_count": 48
    }
   ],
   "source": [
    "1/np.exp(result_1.params)"
   ]
  },
  {
   "cell_type": "markdown",
   "metadata": {},
   "source": [
    "**For a unit increase in a_page, conversion is 1.08 % more likely to happen**\n",
    "\n",
    "**We can imply that coefficient of variable \"US_ab_page\" and \"CA_ab_page\" are different from the coefficient of ab_page itself.**\n",
    "\n",
    "**Conversion is 1.03 times likely to happen for US and ab page users than UK and ab page users.**\n",
    "\n",
    "**Conversion is 1.08 times likely to happen for CA and ab page users than UK and ab page users.**\n",
    "\n",
    "**Convert is 0.5 % likely to happen for the users in US than UK.**\n",
    "\n",
    "**Convert is 1.01 % likely to happen for the users in US than UK**"
   ]
  }
 ],
 "metadata": {
  "kernelspec": {
   "display_name": "Python 3",
   "language": "python",
   "name": "python3"
  },
  "language_info": {
   "codemirror_mode": {
    "name": "ipython",
    "version": 3
   },
   "file_extension": ".py",
   "mimetype": "text/x-python",
   "name": "python",
   "nbconvert_exporter": "python",
   "pygments_lexer": "ipython3",
   "version": "3.8.3-final"
  }
 },
 "nbformat": 4,
 "nbformat_minor": 2
}